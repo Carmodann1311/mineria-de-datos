{
  "nbformat": 4,
  "nbformat_minor": 0,
  "metadata": {
    "colab": {
      "provenance": [],
      "authorship_tag": "ABX9TyOnmDhUo+geMaK4znDBt8pJ",
      "include_colab_link": true
    },
    "kernelspec": {
      "name": "python3",
      "display_name": "Python 3"
    },
    "language_info": {
      "name": "python"
    }
  },
  "cells": [
    {
      "cell_type": "markdown",
      "metadata": {
        "id": "view-in-github",
        "colab_type": "text"
      },
      "source": [
        "<a href=\"https://colab.research.google.com/github/Carmodann1311/mineria-de-datos/blob/main/tarea_31_octubre_incidentes.ipynb\" target=\"_parent\"><img src=\"https://colab.research.google.com/assets/colab-badge.svg\" alt=\"Open In Colab\"/></a>"
      ]
    },
    {
      "cell_type": "code",
      "execution_count": null,
      "metadata": {
        "colab": {
          "base_uri": "https://localhost:8080/",
          "height": 313
        },
        "id": "U5lDX0ngVVej",
        "outputId": "ef12fe47-546d-4090-fcdc-ee4d305e1d28"
      },
      "outputs": [
        {
          "output_type": "execute_result",
          "data": {
            "text/plain": [
              "                folio fecha_creacion hora_creacion dia_semana fecha_cierre  \\\n",
              "0  C2C/20211229/00212     2021-12-29      23:21:20  Miércoles   2022-01-01   \n",
              "1  C2C/20211231/00183     2021-12-31      23:48:03    Viernes   2022-01-01   \n",
              "2  C2C/20220101/00012     2022-01-01      01:06:39     Sábado   2022-01-01   \n",
              "3  C2C/20220101/00070     2022-01-01      09:51:53     Sábado   2022-01-01   \n",
              "4  C2N/20211231/00128     2021-12-31      23:03:05    Viernes   2022-01-01   \n",
              "\n",
              "  hora_cierre tipo_incidente_c4           incidente_c4 alcaldia_inicio  \\\n",
              "0    00:24:06         Lesionado            Atropellado             NaN   \n",
              "1    06:29:52         Lesionado            Atropellado      CUAUHTEMOC   \n",
              "2    06:00:12         Accidente  Choque con lesionados      CUAUHTEMOC   \n",
              "3    12:54:10         Accidente           Motociclista      CUAUHTEMOC   \n",
              "4    06:16:42         Accidente  Choque sin lesionados       IZTACALCO   \n",
              "\n",
              "  codigo_cierre  clas_con_f_alarma      tipo_entrada alcaldia_cierre  \\\n",
              "0             I  URGENCIAS MEDICAS  BOTÓN DE AUXILIO             NaN   \n",
              "1             A  URGENCIAS MEDICAS  BOTÓN DE AUXILIO      CUAUHTEMOC   \n",
              "2             A  URGENCIAS MEDICAS  BOTÓN DE AUXILIO      CUAUHTEMOC   \n",
              "3             A  URGENCIAS MEDICAS             RADIO      CUAUHTEMOC   \n",
              "4             A         EMERGENCIA  BOTÓN DE AUXILIO       IZTACALCO   \n",
              "\n",
              "  alcaldia_catalogo    colonia_catalogo   longitud    latitud  \n",
              "0        Cuauhtémoc          Roma Norte -99.163670  19.421610  \n",
              "1        Cuauhtémoc              Obrera -99.144270  19.409910  \n",
              "2        Cuauhtémoc            Doctores -99.148320  19.415250  \n",
              "3    Miguel Hidalgo            Tlaxpana -99.165781  19.443649  \n",
              "4         Iztacalco  Agricola Pantitlan -99.060450  19.414620  "
            ],
            "text/html": [
              "\n",
              "  <div id=\"df-87c9b246-147c-4080-a20d-f5b670b8b3bd\" class=\"colab-df-container\">\n",
              "    <div>\n",
              "<style scoped>\n",
              "    .dataframe tbody tr th:only-of-type {\n",
              "        vertical-align: middle;\n",
              "    }\n",
              "\n",
              "    .dataframe tbody tr th {\n",
              "        vertical-align: top;\n",
              "    }\n",
              "\n",
              "    .dataframe thead th {\n",
              "        text-align: right;\n",
              "    }\n",
              "</style>\n",
              "<table border=\"1\" class=\"dataframe\">\n",
              "  <thead>\n",
              "    <tr style=\"text-align: right;\">\n",
              "      <th></th>\n",
              "      <th>folio</th>\n",
              "      <th>fecha_creacion</th>\n",
              "      <th>hora_creacion</th>\n",
              "      <th>dia_semana</th>\n",
              "      <th>fecha_cierre</th>\n",
              "      <th>hora_cierre</th>\n",
              "      <th>tipo_incidente_c4</th>\n",
              "      <th>incidente_c4</th>\n",
              "      <th>alcaldia_inicio</th>\n",
              "      <th>codigo_cierre</th>\n",
              "      <th>clas_con_f_alarma</th>\n",
              "      <th>tipo_entrada</th>\n",
              "      <th>alcaldia_cierre</th>\n",
              "      <th>alcaldia_catalogo</th>\n",
              "      <th>colonia_catalogo</th>\n",
              "      <th>longitud</th>\n",
              "      <th>latitud</th>\n",
              "    </tr>\n",
              "  </thead>\n",
              "  <tbody>\n",
              "    <tr>\n",
              "      <th>0</th>\n",
              "      <td>C2C/20211229/00212</td>\n",
              "      <td>2021-12-29</td>\n",
              "      <td>23:21:20</td>\n",
              "      <td>Miércoles</td>\n",
              "      <td>2022-01-01</td>\n",
              "      <td>00:24:06</td>\n",
              "      <td>Lesionado</td>\n",
              "      <td>Atropellado</td>\n",
              "      <td>NaN</td>\n",
              "      <td>I</td>\n",
              "      <td>URGENCIAS MEDICAS</td>\n",
              "      <td>BOTÓN DE AUXILIO</td>\n",
              "      <td>NaN</td>\n",
              "      <td>Cuauhtémoc</td>\n",
              "      <td>Roma Norte</td>\n",
              "      <td>-99.163670</td>\n",
              "      <td>19.421610</td>\n",
              "    </tr>\n",
              "    <tr>\n",
              "      <th>1</th>\n",
              "      <td>C2C/20211231/00183</td>\n",
              "      <td>2021-12-31</td>\n",
              "      <td>23:48:03</td>\n",
              "      <td>Viernes</td>\n",
              "      <td>2022-01-01</td>\n",
              "      <td>06:29:52</td>\n",
              "      <td>Lesionado</td>\n",
              "      <td>Atropellado</td>\n",
              "      <td>CUAUHTEMOC</td>\n",
              "      <td>A</td>\n",
              "      <td>URGENCIAS MEDICAS</td>\n",
              "      <td>BOTÓN DE AUXILIO</td>\n",
              "      <td>CUAUHTEMOC</td>\n",
              "      <td>Cuauhtémoc</td>\n",
              "      <td>Obrera</td>\n",
              "      <td>-99.144270</td>\n",
              "      <td>19.409910</td>\n",
              "    </tr>\n",
              "    <tr>\n",
              "      <th>2</th>\n",
              "      <td>C2C/20220101/00012</td>\n",
              "      <td>2022-01-01</td>\n",
              "      <td>01:06:39</td>\n",
              "      <td>Sábado</td>\n",
              "      <td>2022-01-01</td>\n",
              "      <td>06:00:12</td>\n",
              "      <td>Accidente</td>\n",
              "      <td>Choque con lesionados</td>\n",
              "      <td>CUAUHTEMOC</td>\n",
              "      <td>A</td>\n",
              "      <td>URGENCIAS MEDICAS</td>\n",
              "      <td>BOTÓN DE AUXILIO</td>\n",
              "      <td>CUAUHTEMOC</td>\n",
              "      <td>Cuauhtémoc</td>\n",
              "      <td>Doctores</td>\n",
              "      <td>-99.148320</td>\n",
              "      <td>19.415250</td>\n",
              "    </tr>\n",
              "    <tr>\n",
              "      <th>3</th>\n",
              "      <td>C2C/20220101/00070</td>\n",
              "      <td>2022-01-01</td>\n",
              "      <td>09:51:53</td>\n",
              "      <td>Sábado</td>\n",
              "      <td>2022-01-01</td>\n",
              "      <td>12:54:10</td>\n",
              "      <td>Accidente</td>\n",
              "      <td>Motociclista</td>\n",
              "      <td>CUAUHTEMOC</td>\n",
              "      <td>A</td>\n",
              "      <td>URGENCIAS MEDICAS</td>\n",
              "      <td>RADIO</td>\n",
              "      <td>CUAUHTEMOC</td>\n",
              "      <td>Miguel Hidalgo</td>\n",
              "      <td>Tlaxpana</td>\n",
              "      <td>-99.165781</td>\n",
              "      <td>19.443649</td>\n",
              "    </tr>\n",
              "    <tr>\n",
              "      <th>4</th>\n",
              "      <td>C2N/20211231/00128</td>\n",
              "      <td>2021-12-31</td>\n",
              "      <td>23:03:05</td>\n",
              "      <td>Viernes</td>\n",
              "      <td>2022-01-01</td>\n",
              "      <td>06:16:42</td>\n",
              "      <td>Accidente</td>\n",
              "      <td>Choque sin lesionados</td>\n",
              "      <td>IZTACALCO</td>\n",
              "      <td>A</td>\n",
              "      <td>EMERGENCIA</td>\n",
              "      <td>BOTÓN DE AUXILIO</td>\n",
              "      <td>IZTACALCO</td>\n",
              "      <td>Iztacalco</td>\n",
              "      <td>Agricola Pantitlan</td>\n",
              "      <td>-99.060450</td>\n",
              "      <td>19.414620</td>\n",
              "    </tr>\n",
              "  </tbody>\n",
              "</table>\n",
              "</div>\n",
              "    <div class=\"colab-df-buttons\">\n",
              "\n",
              "  <div class=\"colab-df-container\">\n",
              "    <button class=\"colab-df-convert\" onclick=\"convertToInteractive('df-87c9b246-147c-4080-a20d-f5b670b8b3bd')\"\n",
              "            title=\"Convert this dataframe to an interactive table.\"\n",
              "            style=\"display:none;\">\n",
              "\n",
              "  <svg xmlns=\"http://www.w3.org/2000/svg\" height=\"24px\" viewBox=\"0 -960 960 960\">\n",
              "    <path d=\"M120-120v-720h720v720H120Zm60-500h600v-160H180v160Zm220 220h160v-160H400v160Zm0 220h160v-160H400v160ZM180-400h160v-160H180v160Zm440 0h160v-160H620v160ZM180-180h160v-160H180v160Zm440 0h160v-160H620v160Z\"/>\n",
              "  </svg>\n",
              "    </button>\n",
              "\n",
              "  <style>\n",
              "    .colab-df-container {\n",
              "      display:flex;\n",
              "      gap: 12px;\n",
              "    }\n",
              "\n",
              "    .colab-df-convert {\n",
              "      background-color: #E8F0FE;\n",
              "      border: none;\n",
              "      border-radius: 50%;\n",
              "      cursor: pointer;\n",
              "      display: none;\n",
              "      fill: #1967D2;\n",
              "      height: 32px;\n",
              "      padding: 0 0 0 0;\n",
              "      width: 32px;\n",
              "    }\n",
              "\n",
              "    .colab-df-convert:hover {\n",
              "      background-color: #E2EBFA;\n",
              "      box-shadow: 0px 1px 2px rgba(60, 64, 67, 0.3), 0px 1px 3px 1px rgba(60, 64, 67, 0.15);\n",
              "      fill: #174EA6;\n",
              "    }\n",
              "\n",
              "    .colab-df-buttons div {\n",
              "      margin-bottom: 4px;\n",
              "    }\n",
              "\n",
              "    [theme=dark] .colab-df-convert {\n",
              "      background-color: #3B4455;\n",
              "      fill: #D2E3FC;\n",
              "    }\n",
              "\n",
              "    [theme=dark] .colab-df-convert:hover {\n",
              "      background-color: #434B5C;\n",
              "      box-shadow: 0px 1px 3px 1px rgba(0, 0, 0, 0.15);\n",
              "      filter: drop-shadow(0px 1px 2px rgba(0, 0, 0, 0.3));\n",
              "      fill: #FFFFFF;\n",
              "    }\n",
              "  </style>\n",
              "\n",
              "    <script>\n",
              "      const buttonEl =\n",
              "        document.querySelector('#df-87c9b246-147c-4080-a20d-f5b670b8b3bd button.colab-df-convert');\n",
              "      buttonEl.style.display =\n",
              "        google.colab.kernel.accessAllowed ? 'block' : 'none';\n",
              "\n",
              "      async function convertToInteractive(key) {\n",
              "        const element = document.querySelector('#df-87c9b246-147c-4080-a20d-f5b670b8b3bd');\n",
              "        const dataTable =\n",
              "          await google.colab.kernel.invokeFunction('convertToInteractive',\n",
              "                                                    [key], {});\n",
              "        if (!dataTable) return;\n",
              "\n",
              "        const docLinkHtml = 'Like what you see? Visit the ' +\n",
              "          '<a target=\"_blank\" href=https://colab.research.google.com/notebooks/data_table.ipynb>data table notebook</a>'\n",
              "          + ' to learn more about interactive tables.';\n",
              "        element.innerHTML = '';\n",
              "        dataTable['output_type'] = 'display_data';\n",
              "        await google.colab.output.renderOutput(dataTable, element);\n",
              "        const docLink = document.createElement('div');\n",
              "        docLink.innerHTML = docLinkHtml;\n",
              "        element.appendChild(docLink);\n",
              "      }\n",
              "    </script>\n",
              "  </div>\n",
              "\n",
              "\n",
              "<div id=\"df-d5cb5ca3-bb85-4b44-9e47-8ba83ef7c732\">\n",
              "  <button class=\"colab-df-quickchart\" onclick=\"quickchart('df-d5cb5ca3-bb85-4b44-9e47-8ba83ef7c732')\"\n",
              "            title=\"Suggest charts\"\n",
              "            style=\"display:none;\">\n",
              "\n",
              "<svg xmlns=\"http://www.w3.org/2000/svg\" height=\"24px\"viewBox=\"0 0 24 24\"\n",
              "     width=\"24px\">\n",
              "    <g>\n",
              "        <path d=\"M19 3H5c-1.1 0-2 .9-2 2v14c0 1.1.9 2 2 2h14c1.1 0 2-.9 2-2V5c0-1.1-.9-2-2-2zM9 17H7v-7h2v7zm4 0h-2V7h2v10zm4 0h-2v-4h2v4z\"/>\n",
              "    </g>\n",
              "</svg>\n",
              "  </button>\n",
              "\n",
              "<style>\n",
              "  .colab-df-quickchart {\n",
              "      --bg-color: #E8F0FE;\n",
              "      --fill-color: #1967D2;\n",
              "      --hover-bg-color: #E2EBFA;\n",
              "      --hover-fill-color: #174EA6;\n",
              "      --disabled-fill-color: #AAA;\n",
              "      --disabled-bg-color: #DDD;\n",
              "  }\n",
              "\n",
              "  [theme=dark] .colab-df-quickchart {\n",
              "      --bg-color: #3B4455;\n",
              "      --fill-color: #D2E3FC;\n",
              "      --hover-bg-color: #434B5C;\n",
              "      --hover-fill-color: #FFFFFF;\n",
              "      --disabled-bg-color: #3B4455;\n",
              "      --disabled-fill-color: #666;\n",
              "  }\n",
              "\n",
              "  .colab-df-quickchart {\n",
              "    background-color: var(--bg-color);\n",
              "    border: none;\n",
              "    border-radius: 50%;\n",
              "    cursor: pointer;\n",
              "    display: none;\n",
              "    fill: var(--fill-color);\n",
              "    height: 32px;\n",
              "    padding: 0;\n",
              "    width: 32px;\n",
              "  }\n",
              "\n",
              "  .colab-df-quickchart:hover {\n",
              "    background-color: var(--hover-bg-color);\n",
              "    box-shadow: 0 1px 2px rgba(60, 64, 67, 0.3), 0 1px 3px 1px rgba(60, 64, 67, 0.15);\n",
              "    fill: var(--button-hover-fill-color);\n",
              "  }\n",
              "\n",
              "  .colab-df-quickchart-complete:disabled,\n",
              "  .colab-df-quickchart-complete:disabled:hover {\n",
              "    background-color: var(--disabled-bg-color);\n",
              "    fill: var(--disabled-fill-color);\n",
              "    box-shadow: none;\n",
              "  }\n",
              "\n",
              "  .colab-df-spinner {\n",
              "    border: 2px solid var(--fill-color);\n",
              "    border-color: transparent;\n",
              "    border-bottom-color: var(--fill-color);\n",
              "    animation:\n",
              "      spin 1s steps(1) infinite;\n",
              "  }\n",
              "\n",
              "  @keyframes spin {\n",
              "    0% {\n",
              "      border-color: transparent;\n",
              "      border-bottom-color: var(--fill-color);\n",
              "      border-left-color: var(--fill-color);\n",
              "    }\n",
              "    20% {\n",
              "      border-color: transparent;\n",
              "      border-left-color: var(--fill-color);\n",
              "      border-top-color: var(--fill-color);\n",
              "    }\n",
              "    30% {\n",
              "      border-color: transparent;\n",
              "      border-left-color: var(--fill-color);\n",
              "      border-top-color: var(--fill-color);\n",
              "      border-right-color: var(--fill-color);\n",
              "    }\n",
              "    40% {\n",
              "      border-color: transparent;\n",
              "      border-right-color: var(--fill-color);\n",
              "      border-top-color: var(--fill-color);\n",
              "    }\n",
              "    60% {\n",
              "      border-color: transparent;\n",
              "      border-right-color: var(--fill-color);\n",
              "    }\n",
              "    80% {\n",
              "      border-color: transparent;\n",
              "      border-right-color: var(--fill-color);\n",
              "      border-bottom-color: var(--fill-color);\n",
              "    }\n",
              "    90% {\n",
              "      border-color: transparent;\n",
              "      border-bottom-color: var(--fill-color);\n",
              "    }\n",
              "  }\n",
              "</style>\n",
              "\n",
              "  <script>\n",
              "    async function quickchart(key) {\n",
              "      const quickchartButtonEl =\n",
              "        document.querySelector('#' + key + ' button');\n",
              "      quickchartButtonEl.disabled = true;  // To prevent multiple clicks.\n",
              "      quickchartButtonEl.classList.add('colab-df-spinner');\n",
              "      try {\n",
              "        const charts = await google.colab.kernel.invokeFunction(\n",
              "            'suggestCharts', [key], {});\n",
              "      } catch (error) {\n",
              "        console.error('Error during call to suggestCharts:', error);\n",
              "      }\n",
              "      quickchartButtonEl.classList.remove('colab-df-spinner');\n",
              "      quickchartButtonEl.classList.add('colab-df-quickchart-complete');\n",
              "    }\n",
              "    (() => {\n",
              "      let quickchartButtonEl =\n",
              "        document.querySelector('#df-d5cb5ca3-bb85-4b44-9e47-8ba83ef7c732 button');\n",
              "      quickchartButtonEl.style.display =\n",
              "        google.colab.kernel.accessAllowed ? 'block' : 'none';\n",
              "    })();\n",
              "  </script>\n",
              "</div>\n",
              "\n",
              "    </div>\n",
              "  </div>\n"
            ],
            "application/vnd.google.colaboratory.intrinsic+json": {
              "type": "dataframe",
              "variable_name": "df"
            }
          },
          "metadata": {},
          "execution_count": 8
        }
      ],
      "source": [
        "import pandas as pd\n",
        "\n",
        "df = pd.read_csv('/content/inViales_2022_2024.csv')\n",
        "df.head()"
      ]
    },
    {
      "cell_type": "code",
      "source": [
        "df = df[['Pclass', 'Age', 'Sex', 'Fare', 'Survived']]"
      ],
      "metadata": {
        "id": "PxY5CwzQVeJD"
      },
      "execution_count": null,
      "outputs": []
    },
    {
      "cell_type": "code",
      "source": [
        "df = df.dropna()"
      ],
      "metadata": {
        "id": "uH_UifIiVeLr"
      },
      "execution_count": null,
      "outputs": []
    },
    {
      "cell_type": "code",
      "source": [
        "df.info()"
      ],
      "metadata": {
        "id": "feFPFP8ZaL7Q"
      },
      "execution_count": null,
      "outputs": []
    },
    {
      "cell_type": "code",
      "source": [
        "df['Sex'] = df['Sex'].map({'male': 0, 'female': 1})"
      ],
      "metadata": {
        "id": "u9dfm9tLVeOM"
      },
      "execution_count": null,
      "outputs": []
    },
    {
      "cell_type": "code",
      "source": [
        "X = df.drop(labels='Survived', axis= 1)\n",
        "Y = df['Survived']"
      ],
      "metadata": {
        "id": "HKGR6YICVeQ0"
      },
      "execution_count": null,
      "outputs": []
    },
    {
      "cell_type": "code",
      "source": [
        "from sklearn.model_selection import train_test_split\n",
        "\n",
        "X_train, X_test, y_train, y_test = train_test_split(\n",
        "    X, Y, test_size=0.33, random_state= 1\n",
        ")"
      ],
      "metadata": {
        "id": "IPkdfSF-VeTU"
      },
      "execution_count": null,
      "outputs": []
    },
    {
      "cell_type": "code",
      "source": [
        "from sklearn.linear_model import LogisticRegression\n",
        "\n",
        "model = LogisticRegression(max_iter=200)\n"
      ],
      "metadata": {
        "id": "wiXQyGiPVeWL"
      },
      "execution_count": null,
      "outputs": []
    },
    {
      "cell_type": "code",
      "source": [
        "model.fit(X_train, y_train)"
      ],
      "metadata": {
        "id": "2lD6BRjJVeac"
      },
      "execution_count": null,
      "outputs": []
    },
    {
      "cell_type": "code",
      "source": [
        "y_pred = model.predict(X_test)"
      ],
      "metadata": {
        "id": "SVXMEK8tVedM"
      },
      "execution_count": null,
      "outputs": []
    },
    {
      "cell_type": "code",
      "source": [
        "from sklearn.metrics import accuracy_score, precision_score, recall_score, roc_auc_score\n",
        "\n",
        "# Evaluar el rendimiento del modelo\n",
        "accuracy = accuracy_score(y_test, y_pred)\n",
        "print(f\"Accuracy: {accuracy}\")\n",
        "precision = precision_score(y_test, y_pred, average='weighted')\n",
        "print(f\"Precision: {precision}\")\n",
        "recall = recall_score(y_test, y_pred, average='weighted')\n",
        "print(f\"Recall: {recall}\")\n",
        "roc_auc = roc_auc_score(y_test, model.predict_proba(X_test)[:, 1])  # Usar probabilidades\n",
        "print(f\"ROC AUC Score: {roc_auc}\")"
      ],
      "metadata": {
        "id": "81I4feo6Veft"
      },
      "execution_count": null,
      "outputs": []
    },
    {
      "cell_type": "code",
      "source": [
        "# Cambia este valor para probar diferentes elementos\n",
        "index = 1\n",
        "# Obtener las variables predictorias del elemento\n",
        "test_sample = X_test.iloc[index:index+1].to_numpy()\n",
        "# Obtener la etiqueta correspondiente al índice\n",
        "real_value = y_test.iloc[index]\n",
        "# Realizar la predicción\n",
        "predicted_value = model.predict(test_sample)[0]\n",
        "# Mostrar los resultados\n",
        "print(f\"Valor real: {real_value}\")\n",
        "print(f\"Predicción: {predicted_value}\")"
      ],
      "metadata": {
        "id": "EfXkQLk2VeiG"
      },
      "execution_count": null,
      "outputs": []
    },
    {
      "cell_type": "code",
      "source": [
        "pip install pandas geopandas matplotlib seaborn\n"
      ],
      "metadata": {
        "id": "fPcBXjcUVeqD"
      },
      "execution_count": null,
      "outputs": []
    },
    {
      "cell_type": "code",
      "source": [
        "import pandas as pd\n",
        "import numpy as np\n",
        "\n",
        "# Crear un DataFrame de ejemplo con coordenadas aleatorias\n",
        "np.random.seed(42)\n",
        "num_points = 1000\n",
        "data = {\n",
        "    'lat': np.random.uniform(19.3, 19.5, num_points),\n",
        "    'lon': np.random.uniform(-99.2, -99.1, num_points)\n",
        "}\n",
        "df = pd.DataFrame(data)\n"
      ],
      "metadata": {
        "id": "ivonq2yTVek0"
      },
      "execution_count": null,
      "outputs": []
    },
    {
      "cell_type": "code",
      "source": [
        "import seaborn as sns\n",
        "import matplotlib.pyplot as plt\n",
        "\n",
        "# Configuración del mapa de calor\n",
        "plt.figure(figsize=(10, 8))\n",
        "sns.kdeplot(data=df, x='lon', y='lat', cmap='Blues', fill=True, thresh=0, levels=20)\n",
        "\n",
        "# Personalizar el gráfico\n",
        "plt.title('Mapa de Calor de la CDMX')\n",
        "plt.xlabel('Longitud')\n",
        "plt.ylabel('Latitud')\n",
        "plt.xlim(-99.2, -99.1)\n",
        "plt.ylim(19.3, 19.5)\n",
        "\n",
        "# Mostrar el gráfico\n",
        "plt.show()\n"
      ],
      "metadata": {
        "id": "eneZ45jqVenb"
      },
      "execution_count": null,
      "outputs": []
    },
    {
      "cell_type": "code",
      "source": [],
      "metadata": {
        "id": "c8y5jLyjVes0"
      },
      "execution_count": null,
      "outputs": []
    },
    {
      "cell_type": "code",
      "source": [],
      "metadata": {
        "id": "4dJ8g0LqVev0"
      },
      "execution_count": null,
      "outputs": []
    },
    {
      "cell_type": "code",
      "source": [],
      "metadata": {
        "id": "VdFgjZk5VezV"
      },
      "execution_count": null,
      "outputs": []
    }
  ]
}