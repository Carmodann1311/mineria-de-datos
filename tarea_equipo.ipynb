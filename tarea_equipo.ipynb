{
  "nbformat": 4,
  "nbformat_minor": 0,
  "metadata": {
    "colab": {
      "provenance": [],
      "authorship_tag": "ABX9TyO2BG3wPUjl0rWDm0fU3WFc",
      "include_colab_link": true
    },
    "kernelspec": {
      "name": "python3",
      "display_name": "Python 3"
    },
    "language_info": {
      "name": "python"
    }
  },
  "cells": [
    {
      "cell_type": "markdown",
      "metadata": {
        "id": "view-in-github",
        "colab_type": "text"
      },
      "source": [
        "<a href=\"https://colab.research.google.com/github/Carmodann1311/mineria-de-datos/blob/main/tarea_equipo.ipynb\" target=\"_parent\"><img src=\"https://colab.research.google.com/assets/colab-badge.svg\" alt=\"Open In Colab\"/></a>"
      ]
    },
    {
      "cell_type": "code",
      "source": [
        "!wget https://archivo.datos.cdmx.gob.mx/C5/incidentes_viales/inViales_2022_2024.csv"
      ],
      "metadata": {
        "colab": {
          "base_uri": "https://localhost:8080/"
        },
        "id": "VCJH10p5cLe0",
        "outputId": "22573f65-bdde-4f2e-ebde-d7671f79b4de"
      },
      "execution_count": 1,
      "outputs": [
        {
          "output_type": "stream",
          "name": "stdout",
          "text": [
            "--2024-10-29 23:02:12--  https://archivo.datos.cdmx.gob.mx/C5/incidentes_viales/inViales_2022_2024.csv\n",
            "Resolving archivo.datos.cdmx.gob.mx (archivo.datos.cdmx.gob.mx)... 189.240.234.120\n",
            "Connecting to archivo.datos.cdmx.gob.mx (archivo.datos.cdmx.gob.mx)|189.240.234.120|:443... connected.\n",
            "HTTP request sent, awaiting response... 200 OK\n",
            "Length: 104188755 (99M) [text/csv]\n",
            "Saving to: ‘inViales_2022_2024.csv’\n",
            "\n",
            "inViales_2022_2024. 100%[===================>]  99.36M  21.3MB/s    in 5.2s    \n",
            "\n",
            "2024-10-29 23:02:18 (19.2 MB/s) - ‘inViales_2022_2024.csv’ saved [104188755/104188755]\n",
            "\n"
          ]
        }
      ]
    },
    {
      "cell_type": "code",
      "source": [
        "import pandas as pd\n",
        "data = pd.read_csv('/content/inViales_2022_2024.csv')"
      ],
      "metadata": {
        "id": "xbmX2BzYcLo0"
      },
      "execution_count": 2,
      "outputs": []
    },
    {
      "cell_type": "code",
      "source": [
        "data.head()"
      ],
      "metadata": {
        "colab": {
          "base_uri": "https://localhost:8080/",
          "height": 313
        },
        "id": "SzgI7Ai4cLrw",
        "outputId": "ac01ca15-3176-40d8-a857-d87b4efefe74"
      },
      "execution_count": 4,
      "outputs": [
        {
          "output_type": "execute_result",
          "data": {
            "text/plain": [
              "                folio fecha_creacion hora_creacion dia_semana fecha_cierre  \\\n",
              "0  C2C/20211229/00212     2021-12-29      23:21:20  Miércoles   2022-01-01   \n",
              "1  C2C/20211231/00183     2021-12-31      23:48:03    Viernes   2022-01-01   \n",
              "2  C2C/20220101/00012     2022-01-01      01:06:39     Sábado   2022-01-01   \n",
              "3  C2C/20220101/00070     2022-01-01      09:51:53     Sábado   2022-01-01   \n",
              "4  C2N/20211231/00128     2021-12-31      23:03:05    Viernes   2022-01-01   \n",
              "\n",
              "  hora_cierre tipo_incidente_c4           incidente_c4 alcaldia_inicio  \\\n",
              "0    00:24:06         Lesionado            Atropellado             NaN   \n",
              "1    06:29:52         Lesionado            Atropellado      CUAUHTEMOC   \n",
              "2    06:00:12         Accidente  Choque con lesionados      CUAUHTEMOC   \n",
              "3    12:54:10         Accidente           Motociclista      CUAUHTEMOC   \n",
              "4    06:16:42         Accidente  Choque sin lesionados       IZTACALCO   \n",
              "\n",
              "  codigo_cierre  clas_con_f_alarma      tipo_entrada alcaldia_cierre  \\\n",
              "0             I  URGENCIAS MEDICAS  BOTÓN DE AUXILIO             NaN   \n",
              "1             A  URGENCIAS MEDICAS  BOTÓN DE AUXILIO      CUAUHTEMOC   \n",
              "2             A  URGENCIAS MEDICAS  BOTÓN DE AUXILIO      CUAUHTEMOC   \n",
              "3             A  URGENCIAS MEDICAS             RADIO      CUAUHTEMOC   \n",
              "4             A         EMERGENCIA  BOTÓN DE AUXILIO       IZTACALCO   \n",
              "\n",
              "  alcaldia_catalogo    colonia_catalogo   longitud    latitud  \n",
              "0        Cuauhtémoc          Roma Norte -99.163670  19.421610  \n",
              "1        Cuauhtémoc              Obrera -99.144270  19.409910  \n",
              "2        Cuauhtémoc            Doctores -99.148320  19.415250  \n",
              "3    Miguel Hidalgo            Tlaxpana -99.165781  19.443649  \n",
              "4         Iztacalco  Agricola Pantitlan -99.060450  19.414620  "
            ],
            "text/html": [
              "\n",
              "  <div id=\"df-8e939edd-10bb-4777-8633-d1d6504904a1\" class=\"colab-df-container\">\n",
              "    <div>\n",
              "<style scoped>\n",
              "    .dataframe tbody tr th:only-of-type {\n",
              "        vertical-align: middle;\n",
              "    }\n",
              "\n",
              "    .dataframe tbody tr th {\n",
              "        vertical-align: top;\n",
              "    }\n",
              "\n",
              "    .dataframe thead th {\n",
              "        text-align: right;\n",
              "    }\n",
              "</style>\n",
              "<table border=\"1\" class=\"dataframe\">\n",
              "  <thead>\n",
              "    <tr style=\"text-align: right;\">\n",
              "      <th></th>\n",
              "      <th>folio</th>\n",
              "      <th>fecha_creacion</th>\n",
              "      <th>hora_creacion</th>\n",
              "      <th>dia_semana</th>\n",
              "      <th>fecha_cierre</th>\n",
              "      <th>hora_cierre</th>\n",
              "      <th>tipo_incidente_c4</th>\n",
              "      <th>incidente_c4</th>\n",
              "      <th>alcaldia_inicio</th>\n",
              "      <th>codigo_cierre</th>\n",
              "      <th>clas_con_f_alarma</th>\n",
              "      <th>tipo_entrada</th>\n",
              "      <th>alcaldia_cierre</th>\n",
              "      <th>alcaldia_catalogo</th>\n",
              "      <th>colonia_catalogo</th>\n",
              "      <th>longitud</th>\n",
              "      <th>latitud</th>\n",
              "    </tr>\n",
              "  </thead>\n",
              "  <tbody>\n",
              "    <tr>\n",
              "      <th>0</th>\n",
              "      <td>C2C/20211229/00212</td>\n",
              "      <td>2021-12-29</td>\n",
              "      <td>23:21:20</td>\n",
              "      <td>Miércoles</td>\n",
              "      <td>2022-01-01</td>\n",
              "      <td>00:24:06</td>\n",
              "      <td>Lesionado</td>\n",
              "      <td>Atropellado</td>\n",
              "      <td>NaN</td>\n",
              "      <td>I</td>\n",
              "      <td>URGENCIAS MEDICAS</td>\n",
              "      <td>BOTÓN DE AUXILIO</td>\n",
              "      <td>NaN</td>\n",
              "      <td>Cuauhtémoc</td>\n",
              "      <td>Roma Norte</td>\n",
              "      <td>-99.163670</td>\n",
              "      <td>19.421610</td>\n",
              "    </tr>\n",
              "    <tr>\n",
              "      <th>1</th>\n",
              "      <td>C2C/20211231/00183</td>\n",
              "      <td>2021-12-31</td>\n",
              "      <td>23:48:03</td>\n",
              "      <td>Viernes</td>\n",
              "      <td>2022-01-01</td>\n",
              "      <td>06:29:52</td>\n",
              "      <td>Lesionado</td>\n",
              "      <td>Atropellado</td>\n",
              "      <td>CUAUHTEMOC</td>\n",
              "      <td>A</td>\n",
              "      <td>URGENCIAS MEDICAS</td>\n",
              "      <td>BOTÓN DE AUXILIO</td>\n",
              "      <td>CUAUHTEMOC</td>\n",
              "      <td>Cuauhtémoc</td>\n",
              "      <td>Obrera</td>\n",
              "      <td>-99.144270</td>\n",
              "      <td>19.409910</td>\n",
              "    </tr>\n",
              "    <tr>\n",
              "      <th>2</th>\n",
              "      <td>C2C/20220101/00012</td>\n",
              "      <td>2022-01-01</td>\n",
              "      <td>01:06:39</td>\n",
              "      <td>Sábado</td>\n",
              "      <td>2022-01-01</td>\n",
              "      <td>06:00:12</td>\n",
              "      <td>Accidente</td>\n",
              "      <td>Choque con lesionados</td>\n",
              "      <td>CUAUHTEMOC</td>\n",
              "      <td>A</td>\n",
              "      <td>URGENCIAS MEDICAS</td>\n",
              "      <td>BOTÓN DE AUXILIO</td>\n",
              "      <td>CUAUHTEMOC</td>\n",
              "      <td>Cuauhtémoc</td>\n",
              "      <td>Doctores</td>\n",
              "      <td>-99.148320</td>\n",
              "      <td>19.415250</td>\n",
              "    </tr>\n",
              "    <tr>\n",
              "      <th>3</th>\n",
              "      <td>C2C/20220101/00070</td>\n",
              "      <td>2022-01-01</td>\n",
              "      <td>09:51:53</td>\n",
              "      <td>Sábado</td>\n",
              "      <td>2022-01-01</td>\n",
              "      <td>12:54:10</td>\n",
              "      <td>Accidente</td>\n",
              "      <td>Motociclista</td>\n",
              "      <td>CUAUHTEMOC</td>\n",
              "      <td>A</td>\n",
              "      <td>URGENCIAS MEDICAS</td>\n",
              "      <td>RADIO</td>\n",
              "      <td>CUAUHTEMOC</td>\n",
              "      <td>Miguel Hidalgo</td>\n",
              "      <td>Tlaxpana</td>\n",
              "      <td>-99.165781</td>\n",
              "      <td>19.443649</td>\n",
              "    </tr>\n",
              "    <tr>\n",
              "      <th>4</th>\n",
              "      <td>C2N/20211231/00128</td>\n",
              "      <td>2021-12-31</td>\n",
              "      <td>23:03:05</td>\n",
              "      <td>Viernes</td>\n",
              "      <td>2022-01-01</td>\n",
              "      <td>06:16:42</td>\n",
              "      <td>Accidente</td>\n",
              "      <td>Choque sin lesionados</td>\n",
              "      <td>IZTACALCO</td>\n",
              "      <td>A</td>\n",
              "      <td>EMERGENCIA</td>\n",
              "      <td>BOTÓN DE AUXILIO</td>\n",
              "      <td>IZTACALCO</td>\n",
              "      <td>Iztacalco</td>\n",
              "      <td>Agricola Pantitlan</td>\n",
              "      <td>-99.060450</td>\n",
              "      <td>19.414620</td>\n",
              "    </tr>\n",
              "  </tbody>\n",
              "</table>\n",
              "</div>\n",
              "    <div class=\"colab-df-buttons\">\n",
              "\n",
              "  <div class=\"colab-df-container\">\n",
              "    <button class=\"colab-df-convert\" onclick=\"convertToInteractive('df-8e939edd-10bb-4777-8633-d1d6504904a1')\"\n",
              "            title=\"Convert this dataframe to an interactive table.\"\n",
              "            style=\"display:none;\">\n",
              "\n",
              "  <svg xmlns=\"http://www.w3.org/2000/svg\" height=\"24px\" viewBox=\"0 -960 960 960\">\n",
              "    <path d=\"M120-120v-720h720v720H120Zm60-500h600v-160H180v160Zm220 220h160v-160H400v160Zm0 220h160v-160H400v160ZM180-400h160v-160H180v160Zm440 0h160v-160H620v160ZM180-180h160v-160H180v160Zm440 0h160v-160H620v160Z\"/>\n",
              "  </svg>\n",
              "    </button>\n",
              "\n",
              "  <style>\n",
              "    .colab-df-container {\n",
              "      display:flex;\n",
              "      gap: 12px;\n",
              "    }\n",
              "\n",
              "    .colab-df-convert {\n",
              "      background-color: #E8F0FE;\n",
              "      border: none;\n",
              "      border-radius: 50%;\n",
              "      cursor: pointer;\n",
              "      display: none;\n",
              "      fill: #1967D2;\n",
              "      height: 32px;\n",
              "      padding: 0 0 0 0;\n",
              "      width: 32px;\n",
              "    }\n",
              "\n",
              "    .colab-df-convert:hover {\n",
              "      background-color: #E2EBFA;\n",
              "      box-shadow: 0px 1px 2px rgba(60, 64, 67, 0.3), 0px 1px 3px 1px rgba(60, 64, 67, 0.15);\n",
              "      fill: #174EA6;\n",
              "    }\n",
              "\n",
              "    .colab-df-buttons div {\n",
              "      margin-bottom: 4px;\n",
              "    }\n",
              "\n",
              "    [theme=dark] .colab-df-convert {\n",
              "      background-color: #3B4455;\n",
              "      fill: #D2E3FC;\n",
              "    }\n",
              "\n",
              "    [theme=dark] .colab-df-convert:hover {\n",
              "      background-color: #434B5C;\n",
              "      box-shadow: 0px 1px 3px 1px rgba(0, 0, 0, 0.15);\n",
              "      filter: drop-shadow(0px 1px 2px rgba(0, 0, 0, 0.3));\n",
              "      fill: #FFFFFF;\n",
              "    }\n",
              "  </style>\n",
              "\n",
              "    <script>\n",
              "      const buttonEl =\n",
              "        document.querySelector('#df-8e939edd-10bb-4777-8633-d1d6504904a1 button.colab-df-convert');\n",
              "      buttonEl.style.display =\n",
              "        google.colab.kernel.accessAllowed ? 'block' : 'none';\n",
              "\n",
              "      async function convertToInteractive(key) {\n",
              "        const element = document.querySelector('#df-8e939edd-10bb-4777-8633-d1d6504904a1');\n",
              "        const dataTable =\n",
              "          await google.colab.kernel.invokeFunction('convertToInteractive',\n",
              "                                                    [key], {});\n",
              "        if (!dataTable) return;\n",
              "\n",
              "        const docLinkHtml = 'Like what you see? Visit the ' +\n",
              "          '<a target=\"_blank\" href=https://colab.research.google.com/notebooks/data_table.ipynb>data table notebook</a>'\n",
              "          + ' to learn more about interactive tables.';\n",
              "        element.innerHTML = '';\n",
              "        dataTable['output_type'] = 'display_data';\n",
              "        await google.colab.output.renderOutput(dataTable, element);\n",
              "        const docLink = document.createElement('div');\n",
              "        docLink.innerHTML = docLinkHtml;\n",
              "        element.appendChild(docLink);\n",
              "      }\n",
              "    </script>\n",
              "  </div>\n",
              "\n",
              "\n",
              "<div id=\"df-6dd1fd80-73d1-48d5-ba98-8904d767874d\">\n",
              "  <button class=\"colab-df-quickchart\" onclick=\"quickchart('df-6dd1fd80-73d1-48d5-ba98-8904d767874d')\"\n",
              "            title=\"Suggest charts\"\n",
              "            style=\"display:none;\">\n",
              "\n",
              "<svg xmlns=\"http://www.w3.org/2000/svg\" height=\"24px\"viewBox=\"0 0 24 24\"\n",
              "     width=\"24px\">\n",
              "    <g>\n",
              "        <path d=\"M19 3H5c-1.1 0-2 .9-2 2v14c0 1.1.9 2 2 2h14c1.1 0 2-.9 2-2V5c0-1.1-.9-2-2-2zM9 17H7v-7h2v7zm4 0h-2V7h2v10zm4 0h-2v-4h2v4z\"/>\n",
              "    </g>\n",
              "</svg>\n",
              "  </button>\n",
              "\n",
              "<style>\n",
              "  .colab-df-quickchart {\n",
              "      --bg-color: #E8F0FE;\n",
              "      --fill-color: #1967D2;\n",
              "      --hover-bg-color: #E2EBFA;\n",
              "      --hover-fill-color: #174EA6;\n",
              "      --disabled-fill-color: #AAA;\n",
              "      --disabled-bg-color: #DDD;\n",
              "  }\n",
              "\n",
              "  [theme=dark] .colab-df-quickchart {\n",
              "      --bg-color: #3B4455;\n",
              "      --fill-color: #D2E3FC;\n",
              "      --hover-bg-color: #434B5C;\n",
              "      --hover-fill-color: #FFFFFF;\n",
              "      --disabled-bg-color: #3B4455;\n",
              "      --disabled-fill-color: #666;\n",
              "  }\n",
              "\n",
              "  .colab-df-quickchart {\n",
              "    background-color: var(--bg-color);\n",
              "    border: none;\n",
              "    border-radius: 50%;\n",
              "    cursor: pointer;\n",
              "    display: none;\n",
              "    fill: var(--fill-color);\n",
              "    height: 32px;\n",
              "    padding: 0;\n",
              "    width: 32px;\n",
              "  }\n",
              "\n",
              "  .colab-df-quickchart:hover {\n",
              "    background-color: var(--hover-bg-color);\n",
              "    box-shadow: 0 1px 2px rgba(60, 64, 67, 0.3), 0 1px 3px 1px rgba(60, 64, 67, 0.15);\n",
              "    fill: var(--button-hover-fill-color);\n",
              "  }\n",
              "\n",
              "  .colab-df-quickchart-complete:disabled,\n",
              "  .colab-df-quickchart-complete:disabled:hover {\n",
              "    background-color: var(--disabled-bg-color);\n",
              "    fill: var(--disabled-fill-color);\n",
              "    box-shadow: none;\n",
              "  }\n",
              "\n",
              "  .colab-df-spinner {\n",
              "    border: 2px solid var(--fill-color);\n",
              "    border-color: transparent;\n",
              "    border-bottom-color: var(--fill-color);\n",
              "    animation:\n",
              "      spin 1s steps(1) infinite;\n",
              "  }\n",
              "\n",
              "  @keyframes spin {\n",
              "    0% {\n",
              "      border-color: transparent;\n",
              "      border-bottom-color: var(--fill-color);\n",
              "      border-left-color: var(--fill-color);\n",
              "    }\n",
              "    20% {\n",
              "      border-color: transparent;\n",
              "      border-left-color: var(--fill-color);\n",
              "      border-top-color: var(--fill-color);\n",
              "    }\n",
              "    30% {\n",
              "      border-color: transparent;\n",
              "      border-left-color: var(--fill-color);\n",
              "      border-top-color: var(--fill-color);\n",
              "      border-right-color: var(--fill-color);\n",
              "    }\n",
              "    40% {\n",
              "      border-color: transparent;\n",
              "      border-right-color: var(--fill-color);\n",
              "      border-top-color: var(--fill-color);\n",
              "    }\n",
              "    60% {\n",
              "      border-color: transparent;\n",
              "      border-right-color: var(--fill-color);\n",
              "    }\n",
              "    80% {\n",
              "      border-color: transparent;\n",
              "      border-right-color: var(--fill-color);\n",
              "      border-bottom-color: var(--fill-color);\n",
              "    }\n",
              "    90% {\n",
              "      border-color: transparent;\n",
              "      border-bottom-color: var(--fill-color);\n",
              "    }\n",
              "  }\n",
              "</style>\n",
              "\n",
              "  <script>\n",
              "    async function quickchart(key) {\n",
              "      const quickchartButtonEl =\n",
              "        document.querySelector('#' + key + ' button');\n",
              "      quickchartButtonEl.disabled = true;  // To prevent multiple clicks.\n",
              "      quickchartButtonEl.classList.add('colab-df-spinner');\n",
              "      try {\n",
              "        const charts = await google.colab.kernel.invokeFunction(\n",
              "            'suggestCharts', [key], {});\n",
              "      } catch (error) {\n",
              "        console.error('Error during call to suggestCharts:', error);\n",
              "      }\n",
              "      quickchartButtonEl.classList.remove('colab-df-spinner');\n",
              "      quickchartButtonEl.classList.add('colab-df-quickchart-complete');\n",
              "    }\n",
              "    (() => {\n",
              "      let quickchartButtonEl =\n",
              "        document.querySelector('#df-6dd1fd80-73d1-48d5-ba98-8904d767874d button');\n",
              "      quickchartButtonEl.style.display =\n",
              "        google.colab.kernel.accessAllowed ? 'block' : 'none';\n",
              "    })();\n",
              "  </script>\n",
              "</div>\n",
              "\n",
              "    </div>\n",
              "  </div>\n"
            ],
            "application/vnd.google.colaboratory.intrinsic+json": {
              "type": "dataframe",
              "variable_name": "data"
            }
          },
          "metadata": {},
          "execution_count": 4
        }
      ]
    },
    {
      "cell_type": "code",
      "source": [
        "data_cleaned = data.dropna()"
      ],
      "metadata": {
        "id": "gk17UI2qcLzc"
      },
      "execution_count": 5,
      "outputs": []
    },
    {
      "cell_type": "code",
      "source": [
        "\n",
        "# Paso 2: Convertir columnas de fechas a tipo datetime\n",
        "data_cleaned['fecha_creacion'] = pd.to_datetime(data_cleaned['fecha_creacion'], errors='coerce')\n",
        "data_cleaned['fecha_cierre'] = pd.to_datetime(data_cleaned['fecha_cierre'], errors='coerce')"
      ],
      "metadata": {
        "colab": {
          "base_uri": "https://localhost:8080/"
        },
        "id": "2VlU3JBIcL4J",
        "outputId": "c9cc79cf-7509-4698-fca0-d2a8c643ca3a"
      },
      "execution_count": 10,
      "outputs": [
        {
          "output_type": "stream",
          "name": "stderr",
          "text": [
            "<ipython-input-10-2d5acb9749cb>:2: SettingWithCopyWarning: \n",
            "A value is trying to be set on a copy of a slice from a DataFrame.\n",
            "Try using .loc[row_indexer,col_indexer] = value instead\n",
            "\n",
            "See the caveats in the documentation: https://pandas.pydata.org/pandas-docs/stable/user_guide/indexing.html#returning-a-view-versus-a-copy\n",
            "  data_cleaned['fecha_creacion'] = pd.to_datetime(data_cleaned['fecha_creacion'], errors='coerce')\n",
            "<ipython-input-10-2d5acb9749cb>:3: SettingWithCopyWarning: \n",
            "A value is trying to be set on a copy of a slice from a DataFrame.\n",
            "Try using .loc[row_indexer,col_indexer] = value instead\n",
            "\n",
            "See the caveats in the documentation: https://pandas.pydata.org/pandas-docs/stable/user_guide/indexing.html#returning-a-view-versus-a-copy\n",
            "  data_cleaned['fecha_cierre'] = pd.to_datetime(data_cleaned['fecha_cierre'], errors='coerce')\n"
          ]
        }
      ]
    },
    {
      "cell_type": "code",
      "source": [
        "# Crear una columna para la hora extraída de `hora_creacion`\n",
        "data_cleaned['hora'] = pd.to_datetime(data_cleaned['hora_creacion'], format='%H:%M:%S').dt.hour"
      ],
      "metadata": {
        "colab": {
          "base_uri": "https://localhost:8080/"
        },
        "id": "gDBd-FTPcMBT",
        "outputId": "30b33aab-274e-4852-86db-b9ed4141e0e5"
      },
      "execution_count": 11,
      "outputs": [
        {
          "output_type": "stream",
          "name": "stderr",
          "text": [
            "<ipython-input-11-a1bd70fdb16c>:2: SettingWithCopyWarning: \n",
            "A value is trying to be set on a copy of a slice from a DataFrame.\n",
            "Try using .loc[row_indexer,col_indexer] = value instead\n",
            "\n",
            "See the caveats in the documentation: https://pandas.pydata.org/pandas-docs/stable/user_guide/indexing.html#returning-a-view-versus-a-copy\n",
            "  data_cleaned['hora'] = pd.to_datetime(data_cleaned['hora_creacion'], format='%H:%M:%S').dt.hour\n"
          ]
        }
      ]
    },
    {
      "cell_type": "code",
      "source": [
        "# Paso 3: Convertir la columna `dia_semana` a categórica numérica\n",
        "data_cleaned['dia_semana'] = data_cleaned['dia_semana'].astype('category').cat.codes"
      ],
      "metadata": {
        "colab": {
          "base_uri": "https://localhost:8080/"
        },
        "id": "ptg8RIH_cMJe",
        "outputId": "66285c51-c53e-4eb4-bb64-72901096206f"
      },
      "execution_count": 12,
      "outputs": [
        {
          "output_type": "stream",
          "name": "stderr",
          "text": [
            "<ipython-input-12-9a20d2ff0c35>:2: SettingWithCopyWarning: \n",
            "A value is trying to be set on a copy of a slice from a DataFrame.\n",
            "Try using .loc[row_indexer,col_indexer] = value instead\n",
            "\n",
            "See the caveats in the documentation: https://pandas.pydata.org/pandas-docs/stable/user_guide/indexing.html#returning-a-view-versus-a-copy\n",
            "  data_cleaned['dia_semana'] = data_cleaned['dia_semana'].astype('category').cat.codes\n"
          ]
        }
      ]
    },
    {
      "cell_type": "code",
      "source": [
        "# Mostrar la estructura después de la limpieza\n",
        "print(\"Datos después de la limpieza:\")\n",
        "print(data_cleaned.info())"
      ],
      "metadata": {
        "colab": {
          "base_uri": "https://localhost:8080/"
        },
        "id": "I8-ERFpNcMfj",
        "outputId": "df470e38-c302-4096-ee88-0c9f9e4d4200"
      },
      "execution_count": 13,
      "outputs": [
        {
          "output_type": "stream",
          "name": "stdout",
          "text": [
            "Datos después de la limpieza:\n",
            "<class 'pandas.core.frame.DataFrame'>\n",
            "Index: 492856 entries, 1 to 504260\n",
            "Data columns (total 18 columns):\n",
            " #   Column             Non-Null Count   Dtype         \n",
            "---  ------             --------------   -----         \n",
            " 0   folio              492856 non-null  object        \n",
            " 1   fecha_creacion     492856 non-null  datetime64[ns]\n",
            " 2   hora_creacion      492856 non-null  object        \n",
            " 3   dia_semana         492856 non-null  int8          \n",
            " 4   fecha_cierre       492856 non-null  datetime64[ns]\n",
            " 5   hora_cierre        492856 non-null  object        \n",
            " 6   tipo_incidente_c4  492856 non-null  object        \n",
            " 7   incidente_c4       492856 non-null  object        \n",
            " 8   alcaldia_inicio    492856 non-null  object        \n",
            " 9   codigo_cierre      492856 non-null  int8          \n",
            " 10  clas_con_f_alarma  492856 non-null  object        \n",
            " 11  tipo_entrada       492856 non-null  object        \n",
            " 12  alcaldia_cierre    492856 non-null  object        \n",
            " 13  alcaldia_catalogo  492856 non-null  object        \n",
            " 14  colonia_catalogo   492856 non-null  object        \n",
            " 15  longitud           492856 non-null  float64       \n",
            " 16  latitud            492856 non-null  float64       \n",
            " 17  hora               492856 non-null  int32         \n",
            "dtypes: datetime64[ns](2), float64(2), int32(1), int8(2), object(11)\n",
            "memory usage: 63.0+ MB\n",
            "None\n"
          ]
        }
      ]
    },
    {
      "cell_type": "code",
      "source": [
        "# Importar bibliotecas necesarias\n",
        "import pandas as pd\n",
        "import numpy as np\n",
        "import seaborn as sns\n",
        "import matplotlib.pyplot as plt\n",
        "from sklearn.linear_model import LinearRegression\n",
        "from sklearn.model_selection import train_test_split\n",
        "from sklearn.metrics import r2_score\n",
        "\n",
        "# Cargar los datos\n",
        "file_path = '/content/inViales_2022_2024.csv'  # Cambia la ruta si es necesario\n",
        "data = pd.read_csv(file_path)\n",
        "\n",
        "# Paso 1: Eliminar filas con valores nulos\n",
        "data_cleaned = data.dropna()\n",
        "\n",
        "# Paso 2: Convertir fechas y extraer características de interés\n",
        "data_cleaned['fecha_creacion'] = pd.to_datetime(data_cleaned['fecha_creacion'], errors='coerce')\n",
        "data_cleaned['hora'] = pd.to_datetime(data_cleaned['hora_creacion'], format='%H:%M:%S').dt.hour\n",
        "data_cleaned['dia_semana'] = data_cleaned['dia_semana'].astype('category').cat.codes\n",
        "\n",
        "# Paso 3: Agrupar por día de la semana y hora para obtener la frecuencia de incidentes\n",
        "incidentes_por_dia_hora = data_cleaned.groupby(['dia_semana', 'hora']).size().reset_index(name='frecuencia_incidentes')\n",
        "\n",
        "# Definir variables predictoras (X) y la variable objetivo (y)\n",
        "X = incidentes_por_dia_hora[['dia_semana', 'hora']]\n",
        "y = incidentes_por_dia_hora['frecuencia_incidentes']\n",
        "\n",
        "# Dividir los datos en conjuntos de entrenamiento y prueba\n",
        "X_train, X_test, y_train, y_test = train_test_split(X, y, test_size=0.2, random_state=42)\n",
        "\n",
        "# Crear el modelo de regresión lineal\n",
        "modelo = LinearRegression()\n",
        "modelo.fit(X_train, y_train)\n",
        "\n",
        "# Realizar predicciones y evaluar el modelo\n",
        "y_pred = modelo.predict(X_test)\n",
        "r2 = r2_score(y_test, y_pred)\n",
        "print(f\"Coeficiente de determinación (R^2): {r2:.2f}\")\n",
        "\n",
        "# Visualización de resultados\n",
        "plt.figure(figsize=(10, 6))\n",
        "plt.scatter(y_test, y_pred, alpha=0.5)\n",
        "plt.plot([y.min(), y.max()], [y.min(), y.max()], 'r--')\n",
        "plt.xlabel(\"Valores reales\")\n",
        "plt.ylabel(\"Valores predichos\")\n",
        "plt.title(\"Valores reales vs. predicciones\")\n",
        "plt.show()\n"
      ],
      "metadata": {
        "colab": {
          "base_uri": "https://localhost:8080/",
          "height": 894
        },
        "id": "v_NoYjgZojzs",
        "outputId": "e2d4df4f-5bcf-4f3a-9114-fb878d913e7d"
      },
      "execution_count": 16,
      "outputs": [
        {
          "output_type": "stream",
          "name": "stderr",
          "text": [
            "<ipython-input-16-cdc70e85fddb>:18: SettingWithCopyWarning: \n",
            "A value is trying to be set on a copy of a slice from a DataFrame.\n",
            "Try using .loc[row_indexer,col_indexer] = value instead\n",
            "\n",
            "See the caveats in the documentation: https://pandas.pydata.org/pandas-docs/stable/user_guide/indexing.html#returning-a-view-versus-a-copy\n",
            "  data_cleaned['fecha_creacion'] = pd.to_datetime(data_cleaned['fecha_creacion'], errors='coerce')\n",
            "<ipython-input-16-cdc70e85fddb>:19: SettingWithCopyWarning: \n",
            "A value is trying to be set on a copy of a slice from a DataFrame.\n",
            "Try using .loc[row_indexer,col_indexer] = value instead\n",
            "\n",
            "See the caveats in the documentation: https://pandas.pydata.org/pandas-docs/stable/user_guide/indexing.html#returning-a-view-versus-a-copy\n",
            "  data_cleaned['hora'] = pd.to_datetime(data_cleaned['hora_creacion'], format='%H:%M:%S').dt.hour\n",
            "<ipython-input-16-cdc70e85fddb>:20: SettingWithCopyWarning: \n",
            "A value is trying to be set on a copy of a slice from a DataFrame.\n",
            "Try using .loc[row_indexer,col_indexer] = value instead\n",
            "\n",
            "See the caveats in the documentation: https://pandas.pydata.org/pandas-docs/stable/user_guide/indexing.html#returning-a-view-versus-a-copy\n",
            "  data_cleaned['dia_semana'] = data_cleaned['dia_semana'].astype('category').cat.codes\n"
          ]
        },
        {
          "output_type": "stream",
          "name": "stdout",
          "text": [
            "Coeficiente de determinación (R^2): 0.67\n"
          ]
        },
        {
          "output_type": "display_data",
          "data": {
            "text/plain": [
              "<Figure size 1000x600 with 1 Axes>"
            ],
            "image/png": "[encoded data removed]"
          },
          "metadata": {}
        }
      ]
    },
    {
      "cell_type": "code",
      "source": [
        "from sklearn.metrics import mean_absolute_error, mean_squared_error\n",
        "\n",
        "# Calcular el Coeficiente de Determinación (R^2)\n",
        "r2 = r2_score(y_test, y_pred)\n",
        "\n",
        "# Calcular el Error Absoluto Medio (MAE)\n",
        "mae = mean_absolute_error(y_test, y_pred)\n",
        "\n",
        "# Calcular el Error Cuadrático Medio (MSE) y la Raíz del Error Cuadrático Medio (RMSE)\n",
        "mse = mean_squared_error(y_test, y_pred)\n",
        "rmse = np.sqrt(mse)\n",
        "\n",
        "# Mostrar los resultados\n",
        "print(f\"Coeficiente de determinación (R^2): {r2:.2f}\")\n",
        "print(f\"Error Absoluto Medio (MAE): {mae:.2f}\")\n",
        "print(f\"Error Cuadrático Medio (MSE): {mse:.2f}\")\n",
        "print(f\"Raíz del Error Cuadrático Medio (RMSE): {rmse:.2f}\")\n"
      ],
      "metadata": {
        "colab": {
          "base_uri": "https://localhost:8080/"
        },
        "id": "kQ4Fn78Kokh9",
        "outputId": "f1226d83-4ce0-46e9-8e13-55c17f6ee526"
      },
      "execution_count": 17,
      "outputs": [
        {
          "output_type": "stream",
          "name": "stdout",
          "text": [
            "Coeficiente de determinación (R^2): 0.67\n",
            "Error Absoluto Medio (MAE): 627.48\n",
            "Error Cuadrático Medio (MSE): 704386.65\n",
            "Raíz del Error Cuadrático Medio (RMSE): 839.28\n"
          ]
        }
      ]
    },
    {
      "cell_type": "code",
      "source": [],
      "metadata": {
        "id": "wBGKrxl7okvd"
      },
      "execution_count": null,
      "outputs": []
    },
    {
      "cell_type": "code",
      "source": [],
      "metadata": {
        "id": "KIPh122Hok3O"
      },
      "execution_count": null,
      "outputs": []
    }
  ]
}