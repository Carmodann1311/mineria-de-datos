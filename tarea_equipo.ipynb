{
  "nbformat": 4,
  "nbformat_minor": 0,
  "metadata": {
    "colab": {
      "provenance": [],
      "authorship_tag": "ABX9TyMTz0/GaOq1KIQyu+fGkPxF",
      "include_colab_link": true
    },
    "kernelspec": {
      "name": "python3",
      "display_name": "Python 3"
    },
    "language_info": {
      "name": "python"
    }
  },
  "cells": [
    {
      "cell_type": "markdown",
      "metadata": {
        "id": "view-in-github",
        "colab_type": "text"
      },
      "source": [
        "<a href=\"https://colab.research.google.com/github/Carmodann1311/mineria-de-datos/blob/main/tarea_equipo.ipynb\" target=\"_parent\"><img src=\"https://colab.research.google.com/assets/colab-badge.svg\" alt=\"Open In Colab\"/></a>"
      ]
    },
    {
      "cell_type": "code",
      "source": [
        "!wget https://archivo.datos.cdmx.gob.mx/C5/incidentes_viales/inViales_2022_2024.csv"
      ],
      "metadata": {
        "colab": {
          "base_uri": "https://localhost:8080/"
        },
        "id": "VCJH10p5cLe0",
        "outputId": "ac195187-48fc-4517-af12-519d2f93d430"
      },
      "execution_count": 1,
      "outputs": [
        {
          "output_type": "stream",
          "name": "stdout",
          "text": [
            "--2024-10-30 14:00:13--  https://archivo.datos.cdmx.gob.mx/C5/incidentes_viales/inViales_2022_2024.csv\n",
            "Resolving archivo.datos.cdmx.gob.mx (archivo.datos.cdmx.gob.mx)... 189.240.234.120\n",
            "Connecting to archivo.datos.cdmx.gob.mx (archivo.datos.cdmx.gob.mx)|189.240.234.120|:443... connected.\n",
            "HTTP request sent, awaiting response... 200 OK\n",
            "Length: 104188755 (99M) [text/csv]\n",
            "Saving to: ‘inViales_2022_2024.csv’\n",
            "\n",
            "inViales_2022_2024. 100%[===================>]  99.36M  1.85MB/s    in 45s     \n",
            "\n",
            "2024-10-30 14:00:58 (2.22 MB/s) - ‘inViales_2022_2024.csv’ saved [104188755/104188755]\n",
            "\n"
          ]
        }
      ]
    },
    {
      "cell_type": "code",
      "source": [
        "import pandas as pd\n",
        "data = pd.read_csv('/content/inViales_2022_2024.csv')"
      ],
      "metadata": {
        "id": "xbmX2BzYcLo0"
      },
      "execution_count": 2,
      "outputs": []
    },
    {
      "cell_type": "code",
      "source": [
        "data.head()"
      ],
      "metadata": {
        "colab": {
          "base_uri": "https://localhost:8080/",
          "height": 295
        },
        "id": "SzgI7Ai4cLrw",
        "outputId": "f7bdd834-2e58-47e3-dc91-e0904af1a252"
      },
      "execution_count": 3,
      "outputs": [
        {
          "output_type": "execute_result",
          "data": {
            "text/plain": [
              "                folio fecha_creacion hora_creacion dia_semana fecha_cierre  \\\n",
              "0  C2C/20211229/00212     2021-12-29      23:21:20  Miércoles   2022-01-01   \n",
              "1  C2C/20211231/00183     2021-12-31      23:48:03    Viernes   2022-01-01   \n",
              "2  C2C/20220101/00012     2022-01-01      01:06:39     Sábado   2022-01-01   \n",
              "3  C2C/20220101/00070     2022-01-01      09:51:53     Sábado   2022-01-01   \n",
              "4  C2N/20211231/00128     2021-12-31      23:03:05    Viernes   2022-01-01   \n",
              "\n",
              "  hora_cierre tipo_incidente_c4           incidente_c4 alcaldia_inicio  \\\n",
              "0    00:24:06         Lesionado            Atropellado             NaN   \n",
              "1    06:29:52         Lesionado            Atropellado      CUAUHTEMOC   \n",
              "2    06:00:12         Accidente  Choque con lesionados      CUAUHTEMOC   \n",
              "3    12:54:10         Accidente           Motociclista      CUAUHTEMOC   \n",
              "4    06:16:42         Accidente  Choque sin lesionados       IZTACALCO   \n",
              "\n",
              "  codigo_cierre  clas_con_f_alarma      tipo_entrada alcaldia_cierre  \\\n",
              "0             I  URGENCIAS MEDICAS  BOTÓN DE AUXILIO             NaN   \n",
              "1             A  URGENCIAS MEDICAS  BOTÓN DE AUXILIO      CUAUHTEMOC   \n",
              "2             A  URGENCIAS MEDICAS  BOTÓN DE AUXILIO      CUAUHTEMOC   \n",
              "3             A  URGENCIAS MEDICAS             RADIO      CUAUHTEMOC   \n",
              "4             A         EMERGENCIA  BOTÓN DE AUXILIO       IZTACALCO   \n",
              "\n",
              "  alcaldia_catalogo    colonia_catalogo   longitud    latitud  \n",
              "0        Cuauhtémoc          Roma Norte -99.163670  19.421610  \n",
              "1        Cuauhtémoc              Obrera -99.144270  19.409910  \n",
              "2        Cuauhtémoc            Doctores -99.148320  19.415250  \n",
              "3    Miguel Hidalgo            Tlaxpana -99.165781  19.443649  \n",
              "4         Iztacalco  Agricola Pantitlan -99.060450  19.414620  "
            ],
            "text/html": [
              "\n",
              "  <div id=\"df-5f94c1cd-50ec-4530-b0f1-283554469b8b\" class=\"colab-df-container\">\n",
              "    <div>\n",
              "<style scoped>\n",
              "    .dataframe tbody tr th:only-of-type {\n",
              "        vertical-align: middle;\n",
              "    }\n",
              "\n",
              "    .dataframe tbody tr th {\n",
              "        vertical-align: top;\n",
              "    }\n",
              "\n",
              "    .dataframe thead th {\n",
              "        text-align: right;\n",
              "    }\n",
              "</style>\n",
              "<table border=\"1\" class=\"dataframe\">\n",
              "  <thead>\n",
              "    <tr style=\"text-align: right;\">\n",
              "      <th></th>\n",
              "      <th>folio</th>\n",
              "      <th>fecha_creacion</th>\n",
              "      <th>hora_creacion</th>\n",
              "      <th>dia_semana</th>\n",
              "      <th>fecha_cierre</th>\n",
              "      <th>hora_cierre</th>\n",
              "      <th>tipo_incidente_c4</th>\n",
              "      <th>incidente_c4</th>\n",
              "      <th>alcaldia_inicio</th>\n",
              "      <th>codigo_cierre</th>\n",
              "      <th>clas_con_f_alarma</th>\n",
              "      <th>tipo_entrada</th>\n",
              "      <th>alcaldia_cierre</th>\n",
              "      <th>alcaldia_catalogo</th>\n",
              "      <th>colonia_catalogo</th>\n",
              "      <th>longitud</th>\n",
              "      <th>latitud</th>\n",
              "    </tr>\n",
              "  </thead>\n",
              "  <tbody>\n",
              "    <tr>\n",
              "      <th>0</th>\n",
              "      <td>C2C/20211229/00212</td>\n",
              "      <td>2021-12-29</td>\n",
              "      <td>23:21:20</td>\n",
              "      <td>Miércoles</td>\n",
              "      <td>2022-01-01</td>\n",
              "      <td>00:24:06</td>\n",
              "      <td>Lesionado</td>\n",
              "      <td>Atropellado</td>\n",
              "      <td>NaN</td>\n",
              "      <td>I</td>\n",
              "      <td>URGENCIAS MEDICAS</td>\n",
              "      <td>BOTÓN DE AUXILIO</td>\n",
              "      <td>NaN</td>\n",
              "      <td>Cuauhtémoc</td>\n",
              "      <td>Roma Norte</td>\n",
              "      <td>-99.163670</td>\n",
              "      <td>19.421610</td>\n",
              "    </tr>\n",
              "    <tr>\n",
              "      <th>1</th>\n",
              "      <td>C2C/20211231/00183</td>\n",
              "      <td>2021-12-31</td>\n",
              "      <td>23:48:03</td>\n",
              "      <td>Viernes</td>\n",
              "      <td>2022-01-01</td>\n",
              "      <td>06:29:52</td>\n",
              "      <td>Lesionado</td>\n",
              "      <td>Atropellado</td>\n",
              "      <td>CUAUHTEMOC</td>\n",
              "      <td>A</td>\n",
              "      <td>URGENCIAS MEDICAS</td>\n",
              "      <td>BOTÓN DE AUXILIO</td>\n",
              "      <td>CUAUHTEMOC</td>\n",
              "      <td>Cuauhtémoc</td>\n",
              "      <td>Obrera</td>\n",
              "      <td>-99.144270</td>\n",
              "      <td>19.409910</td>\n",
              "    </tr>\n",
              "    <tr>\n",
              "      <th>2</th>\n",
              "      <td>C2C/20220101/00012</td>\n",
              "      <td>2022-01-01</td>\n",
              "      <td>01:06:39</td>\n",
              "      <td>Sábado</td>\n",
              "      <td>2022-01-01</td>\n",
              "      <td>06:00:12</td>\n",
              "      <td>Accidente</td>\n",
              "      <td>Choque con lesionados</td>\n",
              "      <td>CUAUHTEMOC</td>\n",
              "      <td>A</td>\n",
              "      <td>URGENCIAS MEDICAS</td>\n",
              "      <td>BOTÓN DE AUXILIO</td>\n",
              "      <td>CUAUHTEMOC</td>\n",
              "      <td>Cuauhtémoc</td>\n",
              "      <td>Doctores</td>\n",
              "      <td>-99.148320</td>\n",
              "      <td>19.415250</td>\n",
              "    </tr>\n",
              "    <tr>\n",
              "      <th>3</th>\n",
              "      <td>C2C/20220101/00070</td>\n",
              "      <td>2022-01-01</td>\n",
              "      <td>09:51:53</td>\n",
              "      <td>Sábado</td>\n",
              "      <td>2022-01-01</td>\n",
              "      <td>12:54:10</td>\n",
              "      <td>Accidente</td>\n",
              "      <td>Motociclista</td>\n",
              "      <td>CUAUHTEMOC</td>\n",
              "      <td>A</td>\n",
              "      <td>URGENCIAS MEDICAS</td>\n",
              "      <td>RADIO</td>\n",
              "      <td>CUAUHTEMOC</td>\n",
              "      <td>Miguel Hidalgo</td>\n",
              "      <td>Tlaxpana</td>\n",
              "      <td>-99.165781</td>\n",
              "      <td>19.443649</td>\n",
              "    </tr>\n",
              "    <tr>\n",
              "      <th>4</th>\n",
              "      <td>C2N/20211231/00128</td>\n",
              "      <td>2021-12-31</td>\n",
              "      <td>23:03:05</td>\n",
              "      <td>Viernes</td>\n",
              "      <td>2022-01-01</td>\n",
              "      <td>06:16:42</td>\n",
              "      <td>Accidente</td>\n",
              "      <td>Choque sin lesionados</td>\n",
              "      <td>IZTACALCO</td>\n",
              "      <td>A</td>\n",
              "      <td>EMERGENCIA</td>\n",
              "      <td>BOTÓN DE AUXILIO</td>\n",
              "      <td>IZTACALCO</td>\n",
              "      <td>Iztacalco</td>\n",
              "      <td>Agricola Pantitlan</td>\n",
              "      <td>-99.060450</td>\n",
              "      <td>19.414620</td>\n",
              "    </tr>\n",
              "  </tbody>\n",
              "</table>\n",
              "</div>\n",
              "    <div class=\"colab-df-buttons\">\n",
              "\n",
              "  <div class=\"colab-df-container\">\n",
              "    <button class=\"colab-df-convert\" onclick=\"convertToInteractive('df-5f94c1cd-50ec-4530-b0f1-283554469b8b')\"\n",
              "            title=\"Convert this dataframe to an interactive table.\"\n",
              "            style=\"display:none;\">\n",
              "\n",
              "  <svg xmlns=\"http://www.w3.org/2000/svg\" height=\"24px\" viewBox=\"0 -960 960 960\">\n",
              "    <path d=\"M120-120v-720h720v720H120Zm60-500h600v-160H180v160Zm220 220h160v-160H400v160Zm0 220h160v-160H400v160ZM180-400h160v-160H180v160Zm440 0h160v-160H620v160ZM180-180h160v-160H180v160Zm440 0h160v-160H620v160Z\"/>\n",
              "  </svg>\n",
              "    </button>\n",
              "\n",
              "  <style>\n",
              "    .colab-df-container {\n",
              "      display:flex;\n",
              "      gap: 12px;\n",
              "    }\n",
              "\n",
              "    .colab-df-convert {\n",
              "      background-color: #E8F0FE;\n",
              "      border: none;\n",
              "      border-radius: 50%;\n",
              "      cursor: pointer;\n",
              "      display: none;\n",
              "      fill: #1967D2;\n",
              "      height: 32px;\n",
              "      padding: 0 0 0 0;\n",
              "      width: 32px;\n",
              "    }\n",
              "\n",
              "    .colab-df-convert:hover {\n",
              "      background-color: #E2EBFA;\n",
              "      box-shadow: 0px 1px 2px rgba(60, 64, 67, 0.3), 0px 1px 3px 1px rgba(60, 64, 67, 0.15);\n",
              "      fill: #174EA6;\n",
              "    }\n",
              "\n",
              "    .colab-df-buttons div {\n",
              "      margin-bottom: 4px;\n",
              "    }\n",
              "\n",
              "    [theme=dark] .colab-df-convert {\n",
              "      background-color: #3B4455;\n",
              "      fill: #D2E3FC;\n",
              "    }\n",
              "\n",
              "    [theme=dark] .colab-df-convert:hover {\n",
              "      background-color: #434B5C;\n",
              "      box-shadow: 0px 1px 3px 1px rgba(0, 0, 0, 0.15);\n",
              "      filter: drop-shadow(0px 1px 2px rgba(0, 0, 0, 0.3));\n",
              "      fill: #FFFFFF;\n",
              "    }\n",
              "  </style>\n",
              "\n",
              "    <script>\n",
              "      const buttonEl =\n",
              "        document.querySelector('#df-5f94c1cd-50ec-4530-b0f1-283554469b8b button.colab-df-convert');\n",
              "      buttonEl.style.display =\n",
              "        google.colab.kernel.accessAllowed ? 'block' : 'none';\n",
              "\n",
              "      async function convertToInteractive(key) {\n",
              "        const element = document.querySelector('#df-5f94c1cd-50ec-4530-b0f1-283554469b8b');\n",
              "        const dataTable =\n",
              "          await google.colab.kernel.invokeFunction('convertToInteractive',\n",
              "                                                    [key], {});\n",
              "        if (!dataTable) return;\n",
              "\n",
              "        const docLinkHtml = 'Like what you see? Visit the ' +\n",
              "          '<a target=\"_blank\" href=https://colab.research.google.com/notebooks/data_table.ipynb>data table notebook</a>'\n",
              "          + ' to learn more about interactive tables.';\n",
              "        element.innerHTML = '';\n",
              "        dataTable['output_type'] = 'display_data';\n",
              "        await google.colab.output.renderOutput(dataTable, element);\n",
              "        const docLink = document.createElement('div');\n",
              "        docLink.innerHTML = docLinkHtml;\n",
              "        element.appendChild(docLink);\n",
              "      }\n",
              "    </script>\n",
              "  </div>\n",
              "\n",
              "\n",
              "<div id=\"df-6883b23f-bad3-4b89-a3c9-069a8df32d44\">\n",
              "  <button class=\"colab-df-quickchart\" onclick=\"quickchart('df-6883b23f-bad3-4b89-a3c9-069a8df32d44')\"\n",
              "            title=\"Suggest charts\"\n",
              "            style=\"display:none;\">\n",
              "\n",
              "<svg xmlns=\"http://www.w3.org/2000/svg\" height=\"24px\"viewBox=\"0 0 24 24\"\n",
              "     width=\"24px\">\n",
              "    <g>\n",
              "        <path d=\"M19 3H5c-1.1 0-2 .9-2 2v14c0 1.1.9 2 2 2h14c1.1 0 2-.9 2-2V5c0-1.1-.9-2-2-2zM9 17H7v-7h2v7zm4 0h-2V7h2v10zm4 0h-2v-4h2v4z\"/>\n",
              "    </g>\n",
              "</svg>\n",
              "  </button>\n",
              "\n",
              "<style>\n",
              "  .colab-df-quickchart {\n",
              "      --bg-color: #E8F0FE;\n",
              "      --fill-color: #1967D2;\n",
              "      --hover-bg-color: #E2EBFA;\n",
              "      --hover-fill-color: #174EA6;\n",
              "      --disabled-fill-color: #AAA;\n",
              "      --disabled-bg-color: #DDD;\n",
              "  }\n",
              "\n",
              "  [theme=dark] .colab-df-quickchart {\n",
              "      --bg-color: #3B4455;\n",
              "      --fill-color: #D2E3FC;\n",
              "      --hover-bg-color: #434B5C;\n",
              "      --hover-fill-color: #FFFFFF;\n",
              "      --disabled-bg-color: #3B4455;\n",
              "      --disabled-fill-color: #666;\n",
              "  }\n",
              "\n",
              "  .colab-df-quickchart {\n",
              "    background-color: var(--bg-color);\n",
              "    border: none;\n",
              "    border-radius: 50%;\n",
              "    cursor: pointer;\n",
              "    display: none;\n",
              "    fill: var(--fill-color);\n",
              "    height: 32px;\n",
              "    padding: 0;\n",
              "    width: 32px;\n",
              "  }\n",
              "\n",
              "  .colab-df-quickchart:hover {\n",
              "    background-color: var(--hover-bg-color);\n",
              "    box-shadow: 0 1px 2px rgba(60, 64, 67, 0.3), 0 1px 3px 1px rgba(60, 64, 67, 0.15);\n",
              "    fill: var(--button-hover-fill-color);\n",
              "  }\n",
              "\n",
              "  .colab-df-quickchart-complete:disabled,\n",
              "  .colab-df-quickchart-complete:disabled:hover {\n",
              "    background-color: var(--disabled-bg-color);\n",
              "    fill: var(--disabled-fill-color);\n",
              "    box-shadow: none;\n",
              "  }\n",
              "\n",
              "  .colab-df-spinner {\n",
              "    border: 2px solid var(--fill-color);\n",
              "    border-color: transparent;\n",
              "    border-bottom-color: var(--fill-color);\n",
              "    animation:\n",
              "      spin 1s steps(1) infinite;\n",
              "  }\n",
              "\n",
              "  @keyframes spin {\n",
              "    0% {\n",
              "      border-color: transparent;\n",
              "      border-bottom-color: var(--fill-color);\n",
              "      border-left-color: var(--fill-color);\n",
              "    }\n",
              "    20% {\n",
              "      border-color: transparent;\n",
              "      border-left-color: var(--fill-color);\n",
              "      border-top-color: var(--fill-color);\n",
              "    }\n",
              "    30% {\n",
              "      border-color: transparent;\n",
              "      border-left-color: var(--fill-color);\n",
              "      border-top-color: var(--fill-color);\n",
              "      border-right-color: var(--fill-color);\n",
              "    }\n",
              "    40% {\n",
              "      border-color: transparent;\n",
              "      border-right-color: var(--fill-color);\n",
              "      border-top-color: var(--fill-color);\n",
              "    }\n",
              "    60% {\n",
              "      border-color: transparent;\n",
              "      border-right-color: var(--fill-color);\n",
              "    }\n",
              "    80% {\n",
              "      border-color: transparent;\n",
              "      border-right-color: var(--fill-color);\n",
              "      border-bottom-color: var(--fill-color);\n",
              "    }\n",
              "    90% {\n",
              "      border-color: transparent;\n",
              "      border-bottom-color: var(--fill-color);\n",
              "    }\n",
              "  }\n",
              "</style>\n",
              "\n",
              "  <script>\n",
              "    async function quickchart(key) {\n",
              "      const quickchartButtonEl =\n",
              "        document.querySelector('#' + key + ' button');\n",
              "      quickchartButtonEl.disabled = true;  // To prevent multiple clicks.\n",
              "      quickchartButtonEl.classList.add('colab-df-spinner');\n",
              "      try {\n",
              "        const charts = await google.colab.kernel.invokeFunction(\n",
              "            'suggestCharts', [key], {});\n",
              "      } catch (error) {\n",
              "        console.error('Error during call to suggestCharts:', error);\n",
              "      }\n",
              "      quickchartButtonEl.classList.remove('colab-df-spinner');\n",
              "      quickchartButtonEl.classList.add('colab-df-quickchart-complete');\n",
              "    }\n",
              "    (() => {\n",
              "      let quickchartButtonEl =\n",
              "        document.querySelector('#df-6883b23f-bad3-4b89-a3c9-069a8df32d44 button');\n",
              "      quickchartButtonEl.style.display =\n",
              "        google.colab.kernel.accessAllowed ? 'block' : 'none';\n",
              "    })();\n",
              "  </script>\n",
              "</div>\n",
              "\n",
              "    </div>\n",
              "  </div>\n"
            ],
            "application/vnd.google.colaboratory.intrinsic+json": {
              "type": "dataframe",
              "variable_name": "data"
            }
          },
          "metadata": {},
          "execution_count": 3
        }
      ]
    },
    {
      "cell_type": "code",
      "source": [
        "data_cleaned = data.dropna()"
      ],
      "metadata": {
        "id": "gk17UI2qcLzc"
      },
      "execution_count": 4,
      "outputs": []
    },
    {
      "cell_type": "code",
      "source": [
        "\n",
        "# primero vamos a convertir columnas de fechas a tipo datetime\n",
        "data_cleaned['fecha_creacion'] = pd.to_datetime(data_cleaned['fecha_creacion'], errors='coerce')\n",
        "data_cleaned['fecha_cierre'] = pd.to_datetime(data_cleaned['fecha_cierre'], errors='coerce')"
      ],
      "metadata": {
        "colab": {
          "base_uri": "https://localhost:8080/"
        },
        "id": "2VlU3JBIcL4J",
        "outputId": "59663c27-2ed8-4e51-c0ac-07636981ba33"
      },
      "execution_count": 5,
      "outputs": [
        {
          "output_type": "stream",
          "name": "stderr",
          "text": [
            "<ipython-input-5-63d4ccf1d935>:2: SettingWithCopyWarning: \n",
            "A value is trying to be set on a copy of a slice from a DataFrame.\n",
            "Try using .loc[row_indexer,col_indexer] = value instead\n",
            "\n",
            "See the caveats in the documentation: https://pandas.pydata.org/pandas-docs/stable/user_guide/indexing.html#returning-a-view-versus-a-copy\n",
            "  data_cleaned['fecha_creacion'] = pd.to_datetime(data_cleaned['fecha_creacion'], errors='coerce')\n",
            "<ipython-input-5-63d4ccf1d935>:3: SettingWithCopyWarning: \n",
            "A value is trying to be set on a copy of a slice from a DataFrame.\n",
            "Try using .loc[row_indexer,col_indexer] = value instead\n",
            "\n",
            "See the caveats in the documentation: https://pandas.pydata.org/pandas-docs/stable/user_guide/indexing.html#returning-a-view-versus-a-copy\n",
            "  data_cleaned['fecha_cierre'] = pd.to_datetime(data_cleaned['fecha_cierre'], errors='coerce')\n"
          ]
        }
      ]
    },
    {
      "cell_type": "code",
      "source": [
        "# Lueg vamos a  crear una columna para la hora extraída de `hora_creacion`\n",
        "data_cleaned['hora'] = pd.to_datetime(data_cleaned['hora_creacion'], format='%H:%M:%S').dt.hour"
      ],
      "metadata": {
        "colab": {
          "base_uri": "https://localhost:8080/"
        },
        "id": "gDBd-FTPcMBT",
        "outputId": "8097413a-0065-49ca-9c27-bae102782417"
      },
      "execution_count": 6,
      "outputs": [
        {
          "output_type": "stream",
          "name": "stderr",
          "text": [
            "<ipython-input-6-62af140b8186>:2: SettingWithCopyWarning: \n",
            "A value is trying to be set on a copy of a slice from a DataFrame.\n",
            "Try using .loc[row_indexer,col_indexer] = value instead\n",
            "\n",
            "See the caveats in the documentation: https://pandas.pydata.org/pandas-docs/stable/user_guide/indexing.html#returning-a-view-versus-a-copy\n",
            "  data_cleaned['hora'] = pd.to_datetime(data_cleaned['hora_creacion'], format='%H:%M:%S').dt.hour\n"
          ]
        }
      ]
    },
    {
      "cell_type": "code",
      "source": [
        "# Luego vamos a converit  la columna `dia_semana` a categórica numérica\n",
        "data_cleaned['dia_semana'] = data_cleaned['dia_semana'].astype('category').cat.codes"
      ],
      "metadata": {
        "colab": {
          "base_uri": "https://localhost:8080/"
        },
        "id": "ptg8RIH_cMJe",
        "outputId": "20fa0736-fc62-4ec8-f1ea-08e760172b61"
      },
      "execution_count": 7,
      "outputs": [
        {
          "output_type": "stream",
          "name": "stderr",
          "text": [
            "<ipython-input-7-24f781a3c398>:2: SettingWithCopyWarning: \n",
            "A value is trying to be set on a copy of a slice from a DataFrame.\n",
            "Try using .loc[row_indexer,col_indexer] = value instead\n",
            "\n",
            "See the caveats in the documentation: https://pandas.pydata.org/pandas-docs/stable/user_guide/indexing.html#returning-a-view-versus-a-copy\n",
            "  data_cleaned['dia_semana'] = data_cleaned['dia_semana'].astype('category').cat.codes\n"
          ]
        }
      ]
    },
    {
      "cell_type": "code",
      "source": [
        "# datos ya limpios\n",
        "print(\"Datos después de la limpieza:\")\n",
        "print(data_cleaned.info())"
      ],
      "metadata": {
        "colab": {
          "base_uri": "https://localhost:8080/"
        },
        "id": "I8-ERFpNcMfj",
        "outputId": "b6456072-4777-4c30-94ce-bfbeb37358b8"
      },
      "execution_count": 8,
      "outputs": [
        {
          "output_type": "stream",
          "name": "stdout",
          "text": [
            "Datos después de la limpieza:\n",
            "<class 'pandas.core.frame.DataFrame'>\n",
            "Index: 492856 entries, 1 to 504260\n",
            "Data columns (total 18 columns):\n",
            " #   Column             Non-Null Count   Dtype         \n",
            "---  ------             --------------   -----         \n",
            " 0   folio              492856 non-null  object        \n",
            " 1   fecha_creacion     492856 non-null  datetime64[ns]\n",
            " 2   hora_creacion      492856 non-null  object        \n",
            " 3   dia_semana         492856 non-null  int8          \n",
            " 4   fecha_cierre       492856 non-null  datetime64[ns]\n",
            " 5   hora_cierre        492856 non-null  object        \n",
            " 6   tipo_incidente_c4  492856 non-null  object        \n",
            " 7   incidente_c4       492856 non-null  object        \n",
            " 8   alcaldia_inicio    492856 non-null  object        \n",
            " 9   codigo_cierre      492856 non-null  object        \n",
            " 10  clas_con_f_alarma  492856 non-null  object        \n",
            " 11  tipo_entrada       492856 non-null  object        \n",
            " 12  alcaldia_cierre    492856 non-null  object        \n",
            " 13  alcaldia_catalogo  492856 non-null  object        \n",
            " 14  colonia_catalogo   492856 non-null  object        \n",
            " 15  longitud           492856 non-null  float64       \n",
            " 16  latitud            492856 non-null  float64       \n",
            " 17  hora               492856 non-null  int32         \n",
            "dtypes: datetime64[ns](2), float64(2), int32(1), int8(1), object(12)\n",
            "memory usage: 66.3+ MB\n",
            "None\n"
          ]
        }
      ]
    },
    {
      "cell_type": "code",
      "source": [
        "# Importarmos las bibliotecas necesarias para el modelo\n",
        "import pandas as pd\n",
        "import numpy as np\n",
        "import seaborn as sns\n",
        "import matplotlib.pyplot as plt\n",
        "from sklearn.linear_model import LinearRegression\n",
        "from sklearn.model_selection import train_test_split\n",
        "from sklearn.metrics import r2_score\n",
        "\n",
        "# Cargargamos de nuevo los datos\n",
        "file_path = '/content/inViales_2022_2024.csv'\n",
        "data = pd.read_csv(file_path)\n",
        "\n",
        "# solo para confirma de que se haigan borrado datos nulos\n",
        "data_cleaned = data.dropna()\n",
        "\n",
        "# transformar en datos numerico columnas de interes (ptra vez para verificar )\n",
        "data_cleaned['fecha_creacion'] = pd.to_datetime(data_cleaned['fecha_creacion'], errors='coerce')\n",
        "data_cleaned['hora'] = pd.to_datetime(data_cleaned['hora_creacion'], format='%H:%M:%S').dt.hour\n",
        "data_cleaned['dia_semana'] = data_cleaned['dia_semana'].astype('category').cat.codes\n",
        "\n",
        "#  Agrupamos el día de la semana y hora para obtener la frecuencia de incidentes (importante)\n",
        "incidentes_por_dia_hora = data_cleaned.groupby(['dia_semana', 'hora']).size().reset_index(name='frecuencia_incidentes')\n",
        "\n",
        "# Definimos nuestras variables\n",
        "X = incidentes_por_dia_hora[['dia_semana', 'hora']]\n",
        "y = incidentes_por_dia_hora['frecuencia_incidentes']\n",
        "\n",
        "# Dividir los datos en conjuntos de entrenamiento y prueba\n",
        "X_train, X_test, y_train, y_test = train_test_split(X, y, test_size=0.2, random_state=42)\n",
        "\n",
        "# Crearamos  el modelo de regresión lineal\n",
        "modelo = LinearRegression()\n",
        "modelo.fit(X_train, y_train)\n",
        "\n",
        "# Realizar predicciones y evaluamos el modelo\n",
        "y_pred = modelo.predict(X_test)\n",
        "r2 = r2_score(y_test, y_pred)\n",
        "print(f\"Coeficiente de determinación (R^2): {r2:.2f}\")\n",
        "\n",
        "# Visualización de resultados\n",
        "plt.figure(figsize=(10, 6))\n",
        "plt.scatter(y_test, y_pred, alpha=0.5)\n",
        "plt.plot([y.min(), y.max()], [y.min(), y.max()], 'r--')\n",
        "plt.xlabel(\"dia de la semana\")\n",
        "plt.ylabel(\"hora\")\n",
        "plt.title(\"incidentes 2022-2024\")\n",
        "plt.show()\n"
      ],
      "metadata": {
        "colab": {
          "base_uri": "https://localhost:8080/",
          "height": 975
        },
        "id": "v_NoYjgZojzs",
        "outputId": "86350f4a-231f-43c8-980f-6f891eda6694"
      },
      "execution_count": 9,
      "outputs": [
        {
          "output_type": "stream",
          "name": "stderr",
          "text": [
            "<ipython-input-9-04a5a32849e7>:18: SettingWithCopyWarning: \n",
            "A value is trying to be set on a copy of a slice from a DataFrame.\n",
            "Try using .loc[row_indexer,col_indexer] = value instead\n",
            "\n",
            "See the caveats in the documentation: https://pandas.pydata.org/pandas-docs/stable/user_guide/indexing.html#returning-a-view-versus-a-copy\n",
            "  data_cleaned['fecha_creacion'] = pd.to_datetime(data_cleaned['fecha_creacion'], errors='coerce')\n",
            "<ipython-input-9-04a5a32849e7>:19: SettingWithCopyWarning: \n",
            "A value is trying to be set on a copy of a slice from a DataFrame.\n",
            "Try using .loc[row_indexer,col_indexer] = value instead\n",
            "\n",
            "See the caveats in the documentation: https://pandas.pydata.org/pandas-docs/stable/user_guide/indexing.html#returning-a-view-versus-a-copy\n",
            "  data_cleaned['hora'] = pd.to_datetime(data_cleaned['hora_creacion'], format='%H:%M:%S').dt.hour\n",
            "<ipython-input-9-04a5a32849e7>:20: SettingWithCopyWarning: \n",
            "A value is trying to be set on a copy of a slice from a DataFrame.\n",
            "Try using .loc[row_indexer,col_indexer] = value instead\n",
            "\n",
            "See the caveats in the documentation: https://pandas.pydata.org/pandas-docs/stable/user_guide/indexing.html#returning-a-view-versus-a-copy\n",
            "  data_cleaned['dia_semana'] = data_cleaned['dia_semana'].astype('category').cat.codes\n"
          ]
        },
        {
          "output_type": "stream",
          "name": "stdout",
          "text": [
            "Coeficiente de determinación (R^2): 0.67\n"
          ]
        },
        {
          "output_type": "display_data",
          "data": {
            "text/plain": [
              "<Figure size 1000x600 with 1 Axes>"
            ],
            "image/png": "[encoded data removed]"
          },
          "metadata": {}
        }
      ]
    },
    {
      "cell_type": "code",
      "source": [
        "from sklearn.metrics import mean_absolute_error, mean_squared_error\n",
        "\n",
        "r2 = r2_score(y_test, y_pred)\n",
        "\n",
        "mae = mean_absolute_error(y_test, y_pred)\n",
        "\n",
        "mse = mean_squared_error(y_test, y_pred)\n",
        "rmse = np.sqrt(mse)\n",
        "\n",
        "print(f\"Coeficiente de determinación (R^2): {r2:.2f}\")\n",
        "print(f\"Error Absoluto Medio (MAE): {mae:.2f}\")\n",
        "print(f\"Error Cuadrático Medio (MSE): {mse:.2f}\")\n",
        "print(f\"Raíz del Error Cuadrático Medio (RMSE): {rmse:.2f}\")\n"
      ],
      "metadata": {
        "colab": {
          "base_uri": "https://localhost:8080/"
        },
        "id": "kQ4Fn78Kokh9",
        "outputId": "3e30e6b3-1bfd-4c2e-8428-09d2f5413148"
      },
      "execution_count": 10,
      "outputs": [
        {
          "output_type": "stream",
          "name": "stdout",
          "text": [
            "Coeficiente de determinación (R^2): 0.67\n",
            "Error Absoluto Medio (MAE): 627.48\n",
            "Error Cuadrático Medio (MSE): 704386.65\n",
            "Raíz del Error Cuadrático Medio (RMSE): 839.28\n"
          ]
        }
      ]
    },
    {
      "cell_type": "markdown",
      "source": [
        "Este modelo tiene una precicsion del 67% y lo que preddice la cantidad de incidentes por dia y hora.Esto nos permite identificar patrones temporales en los incidentes, lo que es útil para la planificación de recursos y prevención de situaciones de riesgo."
      ],
      "metadata": {
        "id": "x5Ewi_u0t3nU"
      }
    },
    {
      "cell_type": "markdown",
      "source": [
        "Se utilizo un modelo de regresión lineal múltiple que toma dos variables de entrada: el día de la semana (representado numéricamente de 0 a 6, donde 0 es domingo y 6 es sábado) y la hora del día (de 0 a 23),rn nuestra gráfica de dispersión se  compara los valores reales de incidentes (en el eje y) con los valores predichos por el modelo (en el eje x).\n"
      ],
      "metadata": {
        "id": "lnpeqFqKuSrV"
      }
    },
    {
      "cell_type": "markdown",
      "source": [
        "lo que nos falto pero ya no nos dio por el tiempo y no supimos es como hacer que nuestra grafica diera de una froma eficiente la hora y el dia del incidente"
      ],
      "metadata": {
        "id": "wzbIfPBmv56t"
      }
    }
  ]
}