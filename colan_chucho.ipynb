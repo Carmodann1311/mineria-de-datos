{
  "nbformat": 4,
  "nbformat_minor": 0,
  "metadata": {
    "colab": {
      "private_outputs": true,
      "provenance": [],
      "include_colab_link": true
    },
    "kernelspec": {
      "name": "python3",
      "display_name": "Python 3"
    },
    "language_info": {
      "name": "python"
    }
  },
  "cells": [
    {
      "cell_type": "markdown",
      "metadata": {
        "id": "view-in-github",
        "colab_type": "text"
      },
      "source": [
        "<a href=\"https://colab.research.google.com/github/Carmodann1311/mineria-de-datos/blob/main/colan_chucho.ipynb\" target=\"_parent\"><img src=\"https://colab.research.google.com/assets/colab-badge.svg\" alt=\"Open In Colab\"/></a>"
      ]
    },
    {
      "cell_type": "code",
      "source": [
        "import pandas as pd\n",
        "\n",
        "df = pd.read_csv(\"https://archivo.datos.cdmx.gob.mx/C5/incidentes_viales/inViales_2022_2024.csv\")\n",
        "df.head()"
      ],
      "metadata": {
        "id": "erwyeP_2coAM"
      },
      "execution_count": null,
      "outputs": []
    },
    {
      "cell_type": "code",
      "source": [
        "import pandas as pd\n",
        "\n",
        "df = pd.read_csv(\"https://archivo.datos.cdmx.gob.mx/C5/incidentes_viales/inViales_2022_2024.csv\")\n",
        "# Keep the 'fecha_creacion' column along with 'alcaldia_inicio' and 'alcaldia_cierre'\n",
        "df = df[['alcaldia_inicio', 'alcaldia_cierre', 'fecha_creacion']]\n",
        "\n",
        "df = df.dropna()\n",
        "\n",
        "df = df.rename(columns={'alcaldia_inicio': 'alcaldia_origen', 'alcaldia_cierre': 'alcaldia_final'})\n",
        "\n",
        "# Now you can convert 'fecha_creacion' to datetime\n",
        "df['fecha_creacion'] = pd.to_datetime(df['fecha_creacion'])"
      ],
      "metadata": {
        "id": "VMUxOvhFhM1I"
      },
      "execution_count": null,
      "outputs": []
    },
    {
      "cell_type": "code",
      "source": [
        "df.to_csv('incidentes_viales_procesados.csv', index=False)"
      ],
      "metadata": {
        "id": "UdxC_MdphM3h"
      },
      "execution_count": null,
      "outputs": []
    },
    {
      "cell_type": "code",
      "source": [
        "import pandas as pd\n",
        "\n",
        "df = pd.read_csv(\"/content/incidentes_viales_procesados.csv\")\n",
        "df.head()"
      ],
      "metadata": {
        "id": "dNqp41BXij82"
      },
      "execution_count": null,
      "outputs": []
    },
    {
      "source": [
        "!pip install matplotlib seaborn pandas"
      ],
      "cell_type": "code",
      "metadata": {
        "id": "wYe8Mnm1kIxa"
      },
      "execution_count": null,
      "outputs": []
    },
    {
      "cell_type": "code",
      "source": [
        "import pandas as pd\n",
        "import matplotlib.pyplot as plt\n",
        "import seaborn as sns"
      ],
      "metadata": {
        "id": "NCcwD9SVivbY"
      },
      "execution_count": null,
      "outputs": []
    },
    {
      "cell_type": "code",
      "source": [
        "df = pd.read_csv(\"https://archivo.datos.cdmx.gob.mx/C5/incidentes_viales/inViales_2022_2024.csv\")"
      ],
      "metadata": {
        "id": "NRbF8YxwkNRc"
      },
      "execution_count": null,
      "outputs": []
    },
    {
      "cell_type": "code",
      "source": [
        "sns.countplot(x='alcaldia_inicio', data=df)\n",
        "plt.xticks(rotation=90)\n",
        "plt.title('Incidentes viales por alcaldía de inicio')\n",
        "plt.show()"
      ],
      "metadata": {
        "id": "F_Vzs3HHkNT6"
      },
      "execution_count": null,
      "outputs": []
    },
    {
      "cell_type": "code",
      "source": [
        "sns.countplot(x='alcaldia_cierre', data=df)\n",
        "plt.xticks(rotation=90)\n",
        "plt.title('Incidentes viales por alcaldía de cierre')\n",
        "plt.show()"
      ],
      "metadata": {
        "id": "sUt_MJoEkNYO"
      },
      "execution_count": null,
      "outputs": []
    },
    {
      "cell_type": "code",
      "source": [
        "import matplotlib.dates as mdates\n",
        "\n",
        "df['fecha_creacion'] = pd.to_datetime(df['fecha_creacion'])\n",
        "ax = df.groupby(df['fecha_creacion'].dt.date)['folio'].count().plot()\n",
        "\n",
        "# Formatear el eje x\n",
        "ax.xaxis.set_major_locator(mdates.AutoDateLocator())\n",
        "ax.xaxis.set_major_formatter(mdates.DateFormatter('%Y-%m-%d'))  # Elige el formato que desees\n",
        "\n",
        "plt.title('Incidentes viales por fecha de creación')\n",
        "plt.xticks(rotation=45, ha='right')  # Rotar y alinear para una mejor legibilidad\n",
        "plt.tight_layout()  # Ajustar el diseño para evitar que las etiquetas se superpongan\n",
        "plt.show()"
      ],
      "metadata": {
        "id": "rZ9Bmx-Pkeej"
      },
      "execution_count": null,
      "outputs": []
    },
    {
      "cell_type": "code",
      "source": [
        "# 1. Entendimiento del Negocio (Definido en el comentario anterior)\n",
        "\n",
        "# 2. Entendimiento de los Datos\n",
        "import pandas as pd\n",
        "\n",
        "# Cargar el dataset\n",
        "df = pd.read_csv(\"https://archivo.datos.cdmx.gob.mx/C5/incidentes_viales/inViales_2022_2024.csv\")\n",
        "\n",
        "# Explorar los datos\n",
        "print(df.head())  # Mostrar las primeras filas\n",
        "print(df.info())   # Mostrar información sobre las columnas\n",
        "print(df.describe()) # Mostrar estadísticas descriptivas\n",
        "\n",
        "# Verificar la calidad de los datos\n",
        "print(df.isnull().sum())  # Contar valores faltantes por columna\n",
        "\n",
        "\n",
        "# 3. Preparación de los Datos\n",
        "# Seleccionar columnas relevantes\n",
        "df = df[['alcaldia_inicio', 'folio']]\n",
        "\n",
        "# Limpieza (eliminar valores faltantes en este caso)\n",
        "df = df.dropna()\n",
        "\n",
        "# 4. Modelado (agregación para contar incidentes por alcaldía)\n",
        "incidentes_por_alcaldia = df.groupby('alcaldia_inicio')['folio'].count().reset_index()\n",
        "\n",
        "# 5. Evaluación (visualización)\n",
        "import matplotlib.pyplot as plt\n",
        "import seaborn as sns\n",
        "\n",
        "plt.figure(figsize=(12, 6))\n",
        "sns.barplot(x='alcaldia_inicio', y='folio', data=incidentes_por_alcaldia)\n",
        "plt.xticks(rotation=90)\n",
        "plt.title('Incidentes Viales por Alcaldía')\n",
        "plt.xlabel('Alcaldía')\n",
        "plt.ylabel('Número de Incidentes')\n",
        "plt.tight_layout()\n",
        "plt.show()\n",
        "\n",
        "# 6. Despliegue (guardar resultados o generar un reporte)\n",
        "# incidentes_por_alcaldia.to_csv('incidentes_por_alcaldia.csv', index=False)\n",
        "#  (Descomenta la línea anterior para guardar los resultados en un archivo CSV)"
      ],
      "metadata": {
        "id": "AtUw3jSUkehf"
      },
      "execution_count": null,
      "outputs": []
    },
    {
      "cell_type": "code",
      "source": [
        "import pandas as pd\n",
        "import matplotlib.pyplot as plt\n",
        "import seaborn as sns\n",
        "\n",
        "# Cargar los datos\n",
        "df = pd.read_csv(\"https://archivo.datos.cdmx.gob.mx/C5/incidentes_viales/inViales_2022_2024.csv\")\n",
        "\n",
        "# Eliminar filas con datos faltantes en 'alcaldia_inicio'\n",
        "df = df.dropna(subset=['alcaldia_inicio'])\n",
        "\n",
        "# Contar incidentes por alcaldía\n",
        "incidentes_por_alcaldia = df['alcaldia_inicio'].value_counts().reset_index()\n",
        "incidentes_por_alcaldia.columns = ['alcaldia', 'conteo']\n",
        "\n",
        "# Crear la gráfica de barras con colores de mayor a menor\n",
        "plt.figure(figsize=(12, 6))\n",
        "sns.barplot(x='alcaldia', y='conteo', data=incidentes_por_alcaldia, palette='viridis')\n",
        "plt.xticks(rotation=90)\n",
        "plt.title('Incidentes Viales por Alcaldía (Mayor a Menor)')\n",
        "plt.xlabel('Alcaldía')\n",
        "plt.ylabel('Número de Incidentes')\n",
        "plt.tight_layout()\n",
        "plt.show()"
      ],
      "metadata": {
        "id": "y7TucSPinaLJ"
      },
      "execution_count": null,
      "outputs": []
    },
    {
      "cell_type": "code",
      "source": [],
      "metadata": {
        "id": "nrZLF9g4naNp"
      },
      "execution_count": null,
      "outputs": []
    }
  ]
}